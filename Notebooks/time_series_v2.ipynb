{
 "cells": [
  {
   "cell_type": "markdown",
   "metadata": {
    "id": "2Pmxv2ioyCRw"
   },
   "source": [
    "##### Copyright 2019 The TensorFlow Authors."
   ]
  },
  {
   "cell_type": "code",
   "execution_count": 1,
   "metadata": {
    "cellView": "form",
    "execution": {
     "iopub.execute_input": "2022-12-14T02:53:20.691666Z",
     "iopub.status.busy": "2022-12-14T02:53:20.691130Z",
     "iopub.status.idle": "2022-12-14T02:53:20.695237Z",
     "shell.execute_reply": "2022-12-14T02:53:20.694676Z"
    },
    "id": "b-2ShX25yNWf"
   },
   "outputs": [],
   "source": [
    "#@title Licensed under the Apache License, Version 2.0 (the \"License\");\n",
    "# you may not use this file except in compliance with the License.\n",
    "# You may obtain a copy of the License at\n",
    "#\n",
    "# https://www.apache.org/licenses/LICENSE-2.0\n",
    "#\n",
    "# Unless required by applicable law or agreed to in writing, software\n",
    "# distributed under the License is distributed on an \"AS IS\" BASIS,\n",
    "# WITHOUT WARRANTIES OR CONDITIONS OF ANY KIND, either express or implied.\n",
    "# See the License for the specific language governing permissions and\n",
    "# limitations under the License."
   ]
  },
  {
   "cell_type": "markdown",
   "metadata": {
    "cellView": "form",
    "execution": {
     "iopub.execute_input": "2022-12-14T02:53:20.691666Z",
     "iopub.status.busy": "2022-12-14T02:53:20.691130Z",
     "iopub.status.idle": "2022-12-14T02:53:20.695237Z",
     "shell.execute_reply": "2022-12-14T02:53:20.694676Z"
    },
    "id": "b-2ShX25yNWf"
   },
   "source": [
    "#### Notebooks:\n",
    "https://github.com/tensorflow/docs/blob/master/site/en/tutorials/structured_data/time_series.ipynb\n",
    "https://www.tensorflow.org/tutorials/structured_data/time_series?hl=fr"
   ]
  },
  {
   "cell_type": "markdown",
   "metadata": {
    "id": "pa49bUnKyRgF"
   },
   "source": [
    "# Time series forecasting"
   ]
  },
  {
   "cell_type": "markdown",
   "metadata": {
    "id": "11Ilg92myRcw"
   },
   "source": [
    "<table class=\"tfo-notebook-buttons\" align=\"left\">\n",
    "  <td>\n",
    "    <a target=\"_blank\" href=\"https://www.tensorflow.org/tutorials/structured_data/time_series\"><img src=\"https://www.tensorflow.org/images/tf_logo_32px.png\" />View on TensorFlow.org</a>\n",
    "  </td>\n",
    "  <td>\n",
    "    <a target=\"_blank\" href=\"https://colab.research.google.com/github/tensorflow/docs/blob/master/site/en/tutorials/structured_data/time_series.ipynb\"><img src=\"https://www.tensorflow.org/images/colab_logo_32px.png\" />Run in Google Colab</a>\n",
    "  </td>\n",
    "  <td>\n",
    "    <a target=\"_blank\" href=\"https://github.com/tensorflow/docs/blob/master/site/en/tutorials/structured_data/time_series.ipynb\"><img src=\"https://www.tensorflow.org/images/GitHub-Mark-32px.png\" />View source on GitHub</a>\n",
    "  </td>\n",
    "  <td>\n",
    "    <a href=\"https://storage.googleapis.com/tensorflow_docs/docs/site/en/tutorials/structured_data/time_series.ipynb\"><img src=\"https://www.tensorflow.org/images/download_logo_32px.png\" />Download notebook</a>\n",
    "  </td>\n",
    "</table>"
   ]
  },
  {
   "cell_type": "markdown",
   "metadata": {
    "id": "GU8C5qm_4vZb"
   },
   "source": [
    "This tutorial is an introduction to time series forecasting using TensorFlow. It builds a few different styles of models including Convolutional and Recurrent Neural Networks (CNNs and RNNs).\n",
    "\n",
    "This is covered in two main parts, with subsections: \n",
    "\n",
    "* Forecast for a single time step:\n",
    "  * A single feature.\n",
    "  * All features.\n",
    "* Forecast multiple steps:\n",
    "  * Single-shot: Make the predictions all at once.\n",
    "  * Autoregressive: Make one prediction at a time and feed the output back to the model."
   ]
  },
  {
   "cell_type": "markdown",
   "metadata": {
    "id": "XVhK72Pu1cJL"
   },
   "source": [
    "## Setup"
   ]
  },
  {
   "cell_type": "code",
   "execution_count": 2,
   "metadata": {
    "execution": {
     "iopub.execute_input": "2022-12-14T02:53:20.699018Z",
     "iopub.status.busy": "2022-12-14T02:53:20.698277Z",
     "iopub.status.idle": "2022-12-14T02:53:23.285398Z",
     "shell.execute_reply": "2022-12-14T02:53:23.284632Z"
    },
    "id": "7rZnJaGTWQw0"
   },
   "outputs": [],
   "source": [
    "import os\n",
    "import datetime\n",
    "\n",
    "import IPython\n",
    "import IPython.display\n",
    "import matplotlib as mpl\n",
    "import matplotlib.pyplot as plt\n",
    "import numpy as np\n",
    "import pandas as pd\n",
    "import seaborn as sns\n",
    "import tensorflow as tf\n",
    "\n",
    "mpl.rcParams['figure.figsize'] = (15, 8)\n",
    "mpl.rcParams['axes.grid'] = False"
   ]
  },
  {
   "cell_type": "markdown",
   "metadata": {
    "id": "TokBlnUhWFw9"
   },
   "source": [
    "## The weather dataset\n",
    "\n",
    "This tutorial uses a <a href=\"https://www.bgc-jena.mpg.de/wetter/\" class=\"external\">weather time series dataset</a> recorded by the <a href=\"https://www.bgc-jena.mpg.de\" class=\"external\">Max Planck Institute for Biogeochemistry</a>.\n",
    "\n",
    "This dataset contains 14 different features such as air temperature, atmospheric pressure, and humidity. These were collected every 10 minutes, beginning in 2003. For efficiency, you will use only the data collected between 2009 and 2016. This section of the dataset was prepared by François Chollet for his book <a href=\"https://www.manning.com/books/deep-learning-with-python\" class=\"external\">Deep Learning with Python</a>."
   ]
  },
  {
   "cell_type": "code",
   "execution_count": 3,
   "metadata": {
    "execution": {
     "iopub.execute_input": "2022-12-14T02:53:23.290114Z",
     "iopub.status.busy": "2022-12-14T02:53:23.289174Z",
     "iopub.status.idle": "2022-12-14T02:53:23.832315Z",
     "shell.execute_reply": "2022-12-14T02:53:23.831563Z"
    },
    "id": "xyv_i85IWInT"
   },
   "outputs": [],
   "source": [
    "# zip_path = tf.keras.utils.get_file(\n",
    "#     origin='https://storage.googleapis.com/tensorflow/tf-keras-datasets/jena_climate_2009_2016.csv.zip',\n",
    "#     fname='jena_climate_2009_2016.csv.zip',\n",
    "#     extract=True)\n",
    "# csv_path, _ = os.path.splitext(zip_path)"
   ]
  },
  {
   "cell_type": "code",
   "execution_count": 4,
   "metadata": {},
   "outputs": [
    {
     "name": "stdout",
     "output_type": "stream",
     "text": [
      "C:\\Users\\fcommo\\.keras\\datasets\\jena_climate_2009_2016_prep.csv\n"
     ]
    }
   ],
   "source": [
    "csv_path = r\"C:\\Users\\fcommo\\.keras\\datasets\"\n",
    "# file = \"jena_climate_2009_2016.csv\"\n",
    "file = \"jena_climate_2009_2016_prep.csv\"\n",
    "print(os.path.join(csv_path, file))"
   ]
  },
  {
   "cell_type": "markdown",
   "metadata": {},
   "source": [
    "This tutorial will just deal with **hourly predictions**, so start by sub-sampling the data from 10-minute intervals to one-hour intervals:"
   ]
  },
  {
   "cell_type": "code",
   "execution_count": 5,
   "metadata": {
    "execution": {
     "iopub.execute_input": "2022-12-14T02:53:23.836609Z",
     "iopub.status.busy": "2022-12-14T02:53:23.836090Z",
     "iopub.status.idle": "2022-12-14T02:53:24.617641Z",
     "shell.execute_reply": "2022-12-14T02:53:24.616775Z"
    },
    "id": "TX6uGeeeWIkG"
   },
   "outputs": [],
   "source": [
    "df = pd.read_csv(os.path.join(csv_path, file))\n",
    "# Slice [start:stop:step], starting from index 5 take every 6th record.\n",
    "# df = df[5::6]\n",
    "\n",
    "# date_time = pd.to_datetime(df.pop('Date Time'), format='%d.%m.%Y %H:%M:%S')"
   ]
  },
  {
   "cell_type": "markdown",
   "metadata": {
    "id": "VdbOWXiTWM2T"
   },
   "source": [
    "Let's take a glance at the data. Here are the first few rows:"
   ]
  },
  {
   "cell_type": "code",
   "execution_count": 6,
   "metadata": {
    "execution": {
     "iopub.execute_input": "2022-12-14T02:53:24.622520Z",
     "iopub.status.busy": "2022-12-14T02:53:24.621827Z",
     "iopub.status.idle": "2022-12-14T02:53:24.642603Z",
     "shell.execute_reply": "2022-12-14T02:53:24.641955Z"
    },
    "id": "ojHE-iCCWIhz"
   },
   "outputs": [
    {
     "data": {
      "text/html": [
       "<div>\n",
       "<style scoped>\n",
       "    .dataframe tbody tr th:only-of-type {\n",
       "        vertical-align: middle;\n",
       "    }\n",
       "\n",
       "    .dataframe tbody tr th {\n",
       "        vertical-align: top;\n",
       "    }\n",
       "\n",
       "    .dataframe thead th {\n",
       "        text-align: right;\n",
       "    }\n",
       "</style>\n",
       "<table border=\"1\" class=\"dataframe\">\n",
       "  <thead>\n",
       "    <tr style=\"text-align: right;\">\n",
       "      <th></th>\n",
       "      <th>p (mbar)</th>\n",
       "      <th>T (degC)</th>\n",
       "      <th>Tpot (K)</th>\n",
       "      <th>Tdew (degC)</th>\n",
       "      <th>rh (%)</th>\n",
       "      <th>VPmax (mbar)</th>\n",
       "      <th>VPact (mbar)</th>\n",
       "      <th>VPdef (mbar)</th>\n",
       "      <th>sh (g/kg)</th>\n",
       "      <th>H2OC (mmol/mol)</th>\n",
       "      <th>rho (g/m**3)</th>\n",
       "      <th>Wx</th>\n",
       "      <th>Wy</th>\n",
       "      <th>max Wx</th>\n",
       "      <th>max Wy</th>\n",
       "      <th>Day sin</th>\n",
       "      <th>Day cos</th>\n",
       "      <th>Year sin</th>\n",
       "      <th>Year cos</th>\n",
       "    </tr>\n",
       "  </thead>\n",
       "  <tbody>\n",
       "    <tr>\n",
       "      <th>0</th>\n",
       "      <td>996.50</td>\n",
       "      <td>-8.05</td>\n",
       "      <td>265.38</td>\n",
       "      <td>-8.78</td>\n",
       "      <td>94.4</td>\n",
       "      <td>3.33</td>\n",
       "      <td>3.14</td>\n",
       "      <td>0.19</td>\n",
       "      <td>1.96</td>\n",
       "      <td>3.15</td>\n",
       "      <td>1307.86</td>\n",
       "      <td>-0.204862</td>\n",
       "      <td>-0.046168</td>\n",
       "      <td>-0.614587</td>\n",
       "      <td>-0.138503</td>\n",
       "      <td>0.258819</td>\n",
       "      <td>0.965926</td>\n",
       "      <td>0.010049</td>\n",
       "      <td>0.999950</td>\n",
       "    </tr>\n",
       "    <tr>\n",
       "      <th>1</th>\n",
       "      <td>996.62</td>\n",
       "      <td>-8.88</td>\n",
       "      <td>264.54</td>\n",
       "      <td>-9.77</td>\n",
       "      <td>93.2</td>\n",
       "      <td>3.12</td>\n",
       "      <td>2.90</td>\n",
       "      <td>0.21</td>\n",
       "      <td>1.81</td>\n",
       "      <td>2.91</td>\n",
       "      <td>1312.25</td>\n",
       "      <td>-0.245971</td>\n",
       "      <td>-0.044701</td>\n",
       "      <td>-0.619848</td>\n",
       "      <td>-0.112645</td>\n",
       "      <td>0.500000</td>\n",
       "      <td>0.866025</td>\n",
       "      <td>0.010766</td>\n",
       "      <td>0.999942</td>\n",
       "    </tr>\n",
       "    <tr>\n",
       "      <th>2</th>\n",
       "      <td>996.84</td>\n",
       "      <td>-8.81</td>\n",
       "      <td>264.59</td>\n",
       "      <td>-9.66</td>\n",
       "      <td>93.5</td>\n",
       "      <td>3.13</td>\n",
       "      <td>2.93</td>\n",
       "      <td>0.20</td>\n",
       "      <td>1.83</td>\n",
       "      <td>2.94</td>\n",
       "      <td>1312.18</td>\n",
       "      <td>-0.175527</td>\n",
       "      <td>0.039879</td>\n",
       "      <td>-0.614344</td>\n",
       "      <td>0.139576</td>\n",
       "      <td>0.707107</td>\n",
       "      <td>0.707107</td>\n",
       "      <td>0.011483</td>\n",
       "      <td>0.999934</td>\n",
       "    </tr>\n",
       "    <tr>\n",
       "      <th>3</th>\n",
       "      <td>996.99</td>\n",
       "      <td>-9.05</td>\n",
       "      <td>264.34</td>\n",
       "      <td>-10.02</td>\n",
       "      <td>92.6</td>\n",
       "      <td>3.07</td>\n",
       "      <td>2.85</td>\n",
       "      <td>0.23</td>\n",
       "      <td>1.78</td>\n",
       "      <td>2.85</td>\n",
       "      <td>1313.61</td>\n",
       "      <td>-0.050000</td>\n",
       "      <td>-0.086603</td>\n",
       "      <td>-0.190000</td>\n",
       "      <td>-0.329090</td>\n",
       "      <td>0.866025</td>\n",
       "      <td>0.500000</td>\n",
       "      <td>0.012199</td>\n",
       "      <td>0.999926</td>\n",
       "    </tr>\n",
       "    <tr>\n",
       "      <th>4</th>\n",
       "      <td>997.46</td>\n",
       "      <td>-9.63</td>\n",
       "      <td>263.72</td>\n",
       "      <td>-10.65</td>\n",
       "      <td>92.2</td>\n",
       "      <td>2.94</td>\n",
       "      <td>2.71</td>\n",
       "      <td>0.23</td>\n",
       "      <td>1.69</td>\n",
       "      <td>2.71</td>\n",
       "      <td>1317.19</td>\n",
       "      <td>-0.368202</td>\n",
       "      <td>0.156292</td>\n",
       "      <td>-0.810044</td>\n",
       "      <td>0.343843</td>\n",
       "      <td>0.965926</td>\n",
       "      <td>0.258819</td>\n",
       "      <td>0.012916</td>\n",
       "      <td>0.999917</td>\n",
       "    </tr>\n",
       "  </tbody>\n",
       "</table>\n",
       "</div>"
      ],
      "text/plain": [
       "   p (mbar)  T (degC)  Tpot (K)  Tdew (degC)  rh (%)  VPmax (mbar)  \\\n",
       "0    996.50     -8.05    265.38        -8.78    94.4          3.33   \n",
       "1    996.62     -8.88    264.54        -9.77    93.2          3.12   \n",
       "2    996.84     -8.81    264.59        -9.66    93.5          3.13   \n",
       "3    996.99     -9.05    264.34       -10.02    92.6          3.07   \n",
       "4    997.46     -9.63    263.72       -10.65    92.2          2.94   \n",
       "\n",
       "   VPact (mbar)  VPdef (mbar)  sh (g/kg)  H2OC (mmol/mol)  rho (g/m**3)  \\\n",
       "0          3.14          0.19       1.96             3.15       1307.86   \n",
       "1          2.90          0.21       1.81             2.91       1312.25   \n",
       "2          2.93          0.20       1.83             2.94       1312.18   \n",
       "3          2.85          0.23       1.78             2.85       1313.61   \n",
       "4          2.71          0.23       1.69             2.71       1317.19   \n",
       "\n",
       "         Wx        Wy    max Wx    max Wy   Day sin   Day cos  Year sin  \\\n",
       "0 -0.204862 -0.046168 -0.614587 -0.138503  0.258819  0.965926  0.010049   \n",
       "1 -0.245971 -0.044701 -0.619848 -0.112645  0.500000  0.866025  0.010766   \n",
       "2 -0.175527  0.039879 -0.614344  0.139576  0.707107  0.707107  0.011483   \n",
       "3 -0.050000 -0.086603 -0.190000 -0.329090  0.866025  0.500000  0.012199   \n",
       "4 -0.368202  0.156292 -0.810044  0.343843  0.965926  0.258819  0.012916   \n",
       "\n",
       "   Year cos  \n",
       "0  0.999950  \n",
       "1  0.999942  \n",
       "2  0.999934  \n",
       "3  0.999926  \n",
       "4  0.999917  "
      ]
     },
     "execution_count": 6,
     "metadata": {},
     "output_type": "execute_result"
    }
   ],
   "source": [
    "df.head()"
   ]
  },
  {
   "cell_type": "markdown",
   "metadata": {
    "id": "WRzj1inMfgcO"
   },
   "source": [
    "Here is the evolution of a few features over time:"
   ]
  },
  {
   "cell_type": "code",
   "execution_count": 7,
   "metadata": {
    "execution": {
     "iopub.execute_input": "2022-12-14T02:53:24.646090Z",
     "iopub.status.busy": "2022-12-14T02:53:24.645523Z",
     "iopub.status.idle": "2022-12-14T02:53:26.675757Z",
     "shell.execute_reply": "2022-12-14T02:53:26.675127Z"
    },
    "id": "Vg5XIc5tfNlG"
   },
   "outputs": [],
   "source": [
    "# plot_cols = ['T (degC)', 'p (mbar)', 'rho (g/m**3)']\n",
    "# plot_features = df[plot_cols]\n",
    "# plot_features.index = date_time\n",
    "# _ = plot_features.plot(subplots=True)\n",
    "\n",
    "# plot_features = df[plot_cols][:480]\n",
    "# plot_features.index = date_time[:480]\n",
    "# _ = plot_features.plot(subplots=True)"
   ]
  },
  {
   "cell_type": "markdown",
   "metadata": {
    "id": "wXWLG0_WBhZS"
   },
   "source": [
    "### Inspect and cleanup"
   ]
  },
  {
   "cell_type": "markdown",
   "metadata": {
    "id": "yhmZXJew6GlS"
   },
   "source": [
    "Next, look at the statistics of the dataset:"
   ]
  },
  {
   "cell_type": "code",
   "execution_count": 8,
   "metadata": {
    "execution": {
     "iopub.execute_input": "2022-12-14T02:53:26.680075Z",
     "iopub.status.busy": "2022-12-14T02:53:26.679397Z",
     "iopub.status.idle": "2022-12-14T02:53:26.753403Z",
     "shell.execute_reply": "2022-12-14T02:53:26.752677Z"
    },
    "id": "h510pgKVrrai"
   },
   "outputs": [],
   "source": [
    "# df.describe().transpose()"
   ]
  },
  {
   "cell_type": "markdown",
   "metadata": {
    "id": "TzOTnWOoWMGK"
   },
   "source": [
    "#### Wind velocity"
   ]
  },
  {
   "cell_type": "markdown",
   "metadata": {
    "id": "i47LiW5DCVsP"
   },
   "source": [
    "One thing that should stand out is the `min` value of the wind velocity (`wv (m/s)`) and the maximum value (`max. wv (m/s)`) columns. This `-9999` is likely erroneous.\n",
    "\n",
    "There's a separate wind direction column, so the velocity should be greater than zero (`>=0`). Replace it with zeros:"
   ]
  },
  {
   "cell_type": "code",
   "execution_count": 9,
   "metadata": {
    "execution": {
     "iopub.execute_input": "2022-12-14T02:53:26.757079Z",
     "iopub.status.busy": "2022-12-14T02:53:26.756485Z",
     "iopub.status.idle": "2022-12-14T02:53:26.765870Z",
     "shell.execute_reply": "2022-12-14T02:53:26.765270Z"
    },
    "id": "qFOq0_80vF4d"
   },
   "outputs": [],
   "source": [
    "# wv = df['wv (m/s)']\n",
    "# bad_wv = wv == -9999.0\n",
    "# wv[bad_wv] = 0.0\n",
    "\n",
    "# max_wv = df['max. wv (m/s)']\n",
    "# bad_max_wv = max_wv == -9999.0\n",
    "# max_wv[bad_max_wv] = 0.0\n",
    "\n",
    "# # The above inplace edits are reflected in the DataFrame.\n",
    "# df['wv (m/s)'].min()"
   ]
  },
  {
   "cell_type": "markdown",
   "metadata": {
    "id": "vtmu2IBPgPG8"
   },
   "source": [
    "### Feature engineering\n",
    "\n",
    "Before diving in to build a model, it's important to understand your data and be sure that you're passing the model appropriately formatted data."
   ]
  },
  {
   "cell_type": "markdown",
   "metadata": {
    "id": "FYyEaqiD6j4s"
   },
   "source": [
    "#### Wind\n",
    "The last column of the data, `wd (deg)`—gives the wind direction in units of degrees. Angles do not make good model inputs: 360° and 0° should be close to each other and wrap around smoothly. Direction shouldn't matter if the wind is not blowing.\n",
    "\n",
    "Right now the distribution of wind data looks like this:"
   ]
  },
  {
   "cell_type": "code",
   "execution_count": 10,
   "metadata": {
    "execution": {
     "iopub.execute_input": "2022-12-14T02:53:26.769395Z",
     "iopub.status.busy": "2022-12-14T02:53:26.768849Z",
     "iopub.status.idle": "2022-12-14T02:53:26.998306Z",
     "shell.execute_reply": "2022-12-14T02:53:26.997676Z"
    },
    "id": "YO7JGTcWQG2z"
   },
   "outputs": [],
   "source": [
    "# plt.hist2d(df['wd (deg)'], df['wv (m/s)'], bins=(50, 50), vmax=400)\n",
    "# plt.colorbar()\n",
    "# plt.xlabel('Wind Direction [deg]')\n",
    "# plt.ylabel('Wind Velocity [m/s]')"
   ]
  },
  {
   "cell_type": "markdown",
   "metadata": {
    "id": "yWnf5dwMU1_g"
   },
   "source": [
    "But this will be easier for the model to interpret if you convert the wind direction and velocity columns to a wind **vector**:"
   ]
  },
  {
   "cell_type": "code",
   "execution_count": 11,
   "metadata": {
    "execution": {
     "iopub.execute_input": "2022-12-14T02:53:27.001979Z",
     "iopub.status.busy": "2022-12-14T02:53:27.001363Z",
     "iopub.status.idle": "2022-12-14T02:53:27.017071Z",
     "shell.execute_reply": "2022-12-14T02:53:27.016491Z"
    },
    "id": "6GmSTHXw6lI1"
   },
   "outputs": [],
   "source": [
    "# wv = df.pop('wv (m/s)')\n",
    "# max_wv = df.pop('max. wv (m/s)')\n",
    "\n",
    "# # Convert to radians.\n",
    "# wd_rad = df.pop('wd (deg)')*np.pi / 180\n",
    "\n",
    "# # Calculate the wind x and y components.\n",
    "# df['Wx'] = wv*np.cos(wd_rad)\n",
    "# df['Wy'] = wv*np.sin(wd_rad)\n",
    "\n",
    "# # Calculate the max wind x and y components.\n",
    "# df['max Wx'] = max_wv*np.cos(wd_rad)\n",
    "# df['max Wy'] = max_wv*np.sin(wd_rad)"
   ]
  },
  {
   "cell_type": "markdown",
   "metadata": {
    "id": "7iI0zDoxWDyB"
   },
   "source": [
    "The distribution of wind vectors is much simpler for the model to correctly interpret:"
   ]
  },
  {
   "cell_type": "code",
   "execution_count": 12,
   "metadata": {
    "execution": {
     "iopub.execute_input": "2022-12-14T02:53:27.020732Z",
     "iopub.status.busy": "2022-12-14T02:53:27.020094Z",
     "iopub.status.idle": "2022-12-14T02:53:27.249560Z",
     "shell.execute_reply": "2022-12-14T02:53:27.248927Z"
    },
    "id": "bMgCG5o2SYKD"
   },
   "outputs": [],
   "source": [
    "# plt.hist2d(df['Wx'], df['Wy'], bins=(50, 50), vmax=400)\n",
    "# plt.colorbar()\n",
    "# plt.xlabel('Wind X [m/s]')\n",
    "# plt.ylabel('Wind Y [m/s]')\n",
    "# ax = plt.gca()\n",
    "# ax.axis('tight')"
   ]
  },
  {
   "cell_type": "markdown",
   "metadata": {
    "id": "_8im1ttOWlRB"
   },
   "source": [
    "#### Time"
   ]
  },
  {
   "cell_type": "markdown",
   "metadata": {
    "id": "7YE21HKK40zQ"
   },
   "source": [
    "Similarly, the `Date Time` column is very useful, but not in this string form. Start by converting it to seconds:"
   ]
  },
  {
   "cell_type": "code",
   "execution_count": 13,
   "metadata": {
    "execution": {
     "iopub.execute_input": "2022-12-14T02:53:27.253303Z",
     "iopub.status.busy": "2022-12-14T02:53:27.252777Z",
     "iopub.status.idle": "2022-12-14T02:53:27.517513Z",
     "shell.execute_reply": "2022-12-14T02:53:27.516681Z"
    },
    "id": "LIFf-VjMfnh3"
   },
   "outputs": [],
   "source": [
    "# timestamp_s = date_time.map(pd.Timestamp.timestamp)"
   ]
  },
  {
   "cell_type": "markdown",
   "metadata": {
    "id": "EC_pnM1D5Sgc"
   },
   "source": [
    "Similar to the wind direction, the time in seconds is not a useful model input. Being weather data, it has clear daily and yearly periodicity. There are many ways you could deal with periodicity.\n",
    "\n",
    "You can get usable signals by using sine and cosine transforms to clear \"Time of day\" and \"Time of year\" signals:"
   ]
  },
  {
   "cell_type": "code",
   "execution_count": 14,
   "metadata": {
    "execution": {
     "iopub.execute_input": "2022-12-14T02:53:27.521591Z",
     "iopub.status.busy": "2022-12-14T02:53:27.520948Z",
     "iopub.status.idle": "2022-12-14T02:53:27.533479Z",
     "shell.execute_reply": "2022-12-14T02:53:27.532804Z"
    },
    "id": "MBfX6CDwax73"
   },
   "outputs": [],
   "source": [
    "# day = 24*60*60\n",
    "# year = (365.2425)*day\n",
    "\n",
    "# df['Day sin'] = np.sin(timestamp_s * (2 * np.pi / day))\n",
    "# df['Day cos'] = np.cos(timestamp_s * (2 * np.pi / day))\n",
    "# df['Year sin'] = np.sin(timestamp_s * (2 * np.pi / year))\n",
    "# df['Year cos'] = np.cos(timestamp_s * (2 * np.pi / year))"
   ]
  },
  {
   "cell_type": "code",
   "execution_count": 15,
   "metadata": {
    "execution": {
     "iopub.execute_input": "2022-12-14T02:53:27.536814Z",
     "iopub.status.busy": "2022-12-14T02:53:27.536199Z",
     "iopub.status.idle": "2022-12-14T02:53:27.709682Z",
     "shell.execute_reply": "2022-12-14T02:53:27.708995Z"
    },
    "id": "mXBbTJZfuuTC"
   },
   "outputs": [],
   "source": [
    "# plt.plot(np.array(df['Day sin'])[:25])\n",
    "# plt.plot(np.array(df['Day cos'])[:25])\n",
    "# plt.xlabel('Time [h]')\n",
    "# plt.title('Time of day signal')"
   ]
  },
  {
   "cell_type": "code",
   "execution_count": 16,
   "metadata": {},
   "outputs": [],
   "source": [
    "# df.to_csv(os.path.join(csv_path, 'jena_climate_2009_2016_prep.csv'), index=False)"
   ]
  },
  {
   "cell_type": "markdown",
   "metadata": {
    "id": "HiurzTGQgf_D"
   },
   "source": [
    "This gives the model access to the most important frequency features. In this case you knew ahead of time which frequencies were important. \n",
    "\n",
    "If you don't have that information, you can determine which frequencies are important by extracting features with <a href=\"https://en.wikipedia.org/wiki/Fast_Fourier_transform\" class=\"external\">Fast Fourier Transform</a>. To check the assumptions, here is the `tf.signal.rfft` of the temperature over time. Note the obvious peaks at frequencies near `1/year` and `1/day`:\n"
   ]
  },
  {
   "cell_type": "code",
   "execution_count": 17,
   "metadata": {
    "execution": {
     "iopub.execute_input": "2022-12-14T02:53:27.713901Z",
     "iopub.status.busy": "2022-12-14T02:53:27.713372Z",
     "iopub.status.idle": "2022-12-14T02:53:31.549697Z",
     "shell.execute_reply": "2022-12-14T02:53:31.548667Z"
    },
    "id": "EN4U1fcMiTYs"
   },
   "outputs": [],
   "source": [
    "# fft = tf.signal.rfft(df['T (degC)'])\n",
    "# f_per_dataset = np.arange(0, len(fft))\n",
    "\n",
    "# n_samples_h = len(df['T (degC)'])\n",
    "# hours_per_year = 24*365.2524\n",
    "# years_per_dataset = n_samples_h/(hours_per_year)\n",
    "\n",
    "# f_per_year = f_per_dataset/years_per_dataset\n",
    "# plt.step(f_per_year, np.abs(fft))\n",
    "# plt.xscale('log')\n",
    "# plt.ylim(0, 400000)\n",
    "# plt.xlim([0.1, max(plt.xlim())])\n",
    "# plt.xticks([1, 365.2524], labels=['1/Year', '1/day'])\n",
    "# _ = plt.xlabel('Frequency (log scale)')"
   ]
  },
  {
   "cell_type": "markdown",
   "metadata": {
    "id": "2rbL8bSGDHy3"
   },
   "source": [
    "### Split the data"
   ]
  },
  {
   "cell_type": "markdown",
   "metadata": {
    "id": "qoFJZmXBaxCc"
   },
   "source": [
    "You'll use a `(70%, 20%, 10%)` split for the training, validation, and test sets. Note the data is **not** being randomly shuffled before splitting. This is for two reasons:\n",
    "\n",
    "1. It ensures that chopping the data into windows of consecutive samples is still possible.\n",
    "2. It ensures that the validation/test results are more realistic, being evaluated on the data collected after the model was trained."
   ]
  },
  {
   "cell_type": "code",
   "execution_count": 24,
   "metadata": {
    "execution": {
     "iopub.execute_input": "2022-12-14T02:53:31.554447Z",
     "iopub.status.busy": "2022-12-14T02:53:31.553655Z",
     "iopub.status.idle": "2022-12-14T02:53:31.559390Z",
     "shell.execute_reply": "2022-12-14T02:53:31.558547Z"
    },
    "id": "ia-MPAHxbInX"
   },
   "outputs": [
    {
     "name": "stdout",
     "output_type": "stream",
     "text": [
      "train size: 49063\n",
      "val size: 14018\n",
      "test size: 7010\n",
      "n features: 19\n"
     ]
    }
   ],
   "source": [
    "column_indices = {name: i for i, name in enumerate(df.columns)}\n",
    "\n",
    "n = len(df)\n",
    "train_df = df[0:int(n*0.7)]\n",
    "val_df = df[int(n*0.7):int(n*0.9)]\n",
    "test_df = df[int(n*0.9):]\n",
    "\n",
    "num_features = df.shape[1]\n",
    "\n",
    "print(f\"train size: {train_df.shape[0]}\")\n",
    "print(f\"val size: {val_df.shape[0]}\")\n",
    "print(f\"test size: {test_df.shape[0]}\")\n",
    "print(f\"n features: {num_features}\")"
   ]
  },
  {
   "cell_type": "markdown",
   "metadata": {
    "id": "-eFckdUUHWmT"
   },
   "source": [
    "### Normalize the data\n",
    "\n",
    "It is important to scale features before training a neural network. Normalization is a common way of doing this scaling: subtract the mean and divide by the standard deviation of each feature."
   ]
  },
  {
   "cell_type": "markdown",
   "metadata": {
    "id": "mxbIic5TMlxx"
   },
   "source": [
    "The mean and standard deviation should only be computed using the training data so that the models have no access to the values in the validation and test sets.\n",
    "\n",
    "It's also arguable that the model shouldn't have access to future values in the training set when training, and that this normalization should be done using moving averages. That's not the focus of this tutorial, and the validation and test sets ensure that you get (somewhat) honest metrics. So, in the interest of simplicity this tutorial uses a simple average."
   ]
  },
  {
   "cell_type": "code",
   "execution_count": 25,
   "metadata": {
    "execution": {
     "iopub.execute_input": "2022-12-14T02:53:31.563858Z",
     "iopub.status.busy": "2022-12-14T02:53:31.563037Z",
     "iopub.status.idle": "2022-12-14T02:53:31.607192Z",
     "shell.execute_reply": "2022-12-14T02:53:31.606056Z"
    },
    "id": "Eji6njXvHusN"
   },
   "outputs": [],
   "source": [
    "def normalize(train_df, val_df, test_df):\n",
    "    train_mean = train_df.mean()\n",
    "    train_std = train_df.std()\n",
    "\n",
    "    train_df = (train_df - train_mean) / train_std\n",
    "    val_df = (val_df - train_mean) / train_std\n",
    "    test_df = (test_df - train_mean) / train_std\n",
    "    df_std = (df - train_mean) / train_std\n",
    "\n",
    "    # df_std is returned for plotting only\n",
    "    return train_df, val_df, test_df, df_std\n",
    "\n",
    "train_df, val_df, test_df, df_std = normalize(train_df, val_df, test_df)"
   ]
  },
  {
   "cell_type": "markdown",
   "metadata": {
    "id": "G6ufs8kk9JQw"
   },
   "source": [
    "Now, peek at the distribution of the features. Some features do have long tails, but there are no obvious errors like the `-9999` wind velocity value."
   ]
  },
  {
   "cell_type": "code",
   "execution_count": 26,
   "metadata": {
    "execution": {
     "iopub.execute_input": "2022-12-14T02:53:31.612166Z",
     "iopub.status.busy": "2022-12-14T02:53:31.611540Z",
     "iopub.status.idle": "2022-12-14T02:53:36.128644Z",
     "shell.execute_reply": "2022-12-14T02:53:36.127988Z"
    },
    "id": "T0UYEnkwm8Fe"
   },
   "outputs": [
    {
     "data": {
      "image/png": "[encoded data removed]",
      "text/plain": [
       "<Figure size 864x432 with 1 Axes>"
      ]
     },
     "metadata": {
      "needs_background": "light"
     },
     "output_type": "display_data"
    }
   ],
   "source": [
    "# df_std = (df - train_mean) / train_std\n",
    "df_std = df_std.melt(var_name='Column', value_name='Normalized')\n",
    "plt.figure(figsize=(12, 6))\n",
    "ax = sns.violinplot(x='Column', y='Normalized', data=df_std)\n",
    "_ = ax.set_xticklabels(df.keys(), rotation=90)"
   ]
  },
  {
   "cell_type": "markdown",
   "metadata": {
    "id": "ZBBmdxZ2HgfJ"
   },
   "source": [
    "## Data windowing\n",
    "\n",
    "The models in this tutorial will make a set of predictions based on a window of consecutive samples from the data. \n",
    "\n",
    "The main features of the input windows are:\n",
    "\n",
    "- The width (number of time steps) of the input and label windows.\n",
    "- The time offset between them.\n",
    "- Which features are used as inputs, labels, or both. \n",
    "\n",
    "This tutorial builds a variety of models (including Linear, DNN, CNN and RNN models), and uses them for both:\n",
    "\n",
    "- *Single-output*, and *multi-output* predictions.\n",
    "- *Single-time-step* and *multi-time-step* predictions.\n",
    "\n",
    "This section focuses on implementing the data windowing so that it can be reused for all of those models.\n"
   ]
  },
  {
   "cell_type": "markdown",
   "metadata": {
    "id": "YAhGUVx1jtOy"
   },
   "source": [
    "Depending on the task and type of model you may want to generate a variety of data windows. Here are some examples:\n",
    "\n",
    "1. For example, to make a single prediction 24 hours into the future, given 24 hours of history, you might define a window like this:\n",
    "\n",
    "  ![One prediction 24 hours into the future.](images/raw_window_24h.png)\n",
    "\n",
    "2. A model that makes a prediction one hour into the future, given six hours of history, would need a window like this:\n",
    "\n",
    "  ![One prediction one hour into the future.](images/raw_window_1h.png)"
   ]
  },
  {
   "cell_type": "markdown",
   "metadata": {
    "id": "sa2BbfNZt8wy"
   },
   "source": [
    "The rest of this section defines a `WindowGenerator` class. This class can:\n",
    "\n",
    "1. Handle the indexes and offsets as shown in the diagrams above.\n",
    "1. Split windows of features into `(features, labels)` pairs.\n",
    "2. Plot the content of the resulting windows.\n",
    "3. Efficiently generate batches of these windows from the training, evaluation, and test data, using `tf.data.Dataset`s."
   ]
  },
  {
   "cell_type": "markdown",
   "metadata": {
    "id": "rfx3jGjyziUF"
   },
   "source": [
    "### 1. Indexes and offsets\n",
    "\n",
    "Start by creating the `WindowGenerator` class. The `__init__` method includes all the necessary logic for the input and label indices.\n",
    "\n",
    "It also takes the training, evaluation, and test DataFrames as input. These will be converted to `tf.data.Dataset`s of windows later."
   ]
  },
  {
   "cell_type": "code",
   "execution_count": 27,
   "metadata": {
    "execution": {
     "iopub.execute_input": "2022-12-14T02:53:36.133874Z",
     "iopub.status.busy": "2022-12-14T02:53:36.133283Z",
     "iopub.status.idle": "2022-12-14T02:53:36.139834Z",
     "shell.execute_reply": "2022-12-14T02:53:36.139237Z"
    },
    "id": "Kem30j8QHxyW"
   },
   "outputs": [],
   "source": [
    "class WindowGenerator():\n",
    "    \"\"\"\n",
    "    Example:\n",
    "    w1 = WindowGenerator(input_width=24, label_width=1, shift=24,\n",
    "                     label_columns=['T (degC)'])\n",
    "    w1\n",
    "    # output\n",
    "    Total window size: 48\n",
    "    Input indices: [ 0  1  2  3  4  5  6  7  8  9 10 11 12 13 14 15 16 17 18 19 20 21 22 23]\n",
    "    Label indices: [47]\n",
    "    Label column name(s): ['T (degC)']\n",
    "    \"\"\"\n",
    "    def __init__(self, input_width, label_width, shift,\n",
    "               train_df=train_df, val_df=val_df, test_df=test_df,\n",
    "               label_columns=None):\n",
    "        # Store the raw data.\n",
    "        self.train_df = train_df\n",
    "        self.val_df = val_df\n",
    "        self.test_df = test_df\n",
    "\n",
    "        # Work out the label column indices.\n",
    "        self.label_columns = label_columns\n",
    "        if label_columns is not None:\n",
    "            self.label_columns_indices = {name: i for i, name in\n",
    "                                        enumerate(label_columns)}\n",
    "        self.column_indices = {name: i for i, name in\n",
    "                               enumerate(train_df.columns)}\n",
    "\n",
    "        # Work out the window parameters.\n",
    "        self.input_width = input_width\n",
    "        self.label_width = label_width\n",
    "        self.shift = shift\n",
    "\n",
    "        self.total_window_size = input_width + shift\n",
    "\n",
    "        self.input_slice = slice(0, input_width)\n",
    "        self.input_indices = np.arange(self.total_window_size)[self.input_slice]\n",
    "\n",
    "        self.label_start = self.total_window_size - self.label_width\n",
    "        self.labels_slice = slice(self.label_start, None)\n",
    "        self.label_indices = np.arange(self.total_window_size)[self.labels_slice]\n",
    "\n",
    "    def __repr__(self):\n",
    "        return '\\n'.join([\n",
    "            f'Total window size: {self.total_window_size}',\n",
    "            f'Input indices: {self.input_indices}',\n",
    "            f'Label indices: {self.label_indices}',\n",
    "            f'Label column name(s): {self.label_columns}'])"
   ]
  },
  {
   "cell_type": "markdown",
   "metadata": {
    "id": "yVJgblsYzL1g"
   },
   "source": [
    "Here is code to create the 2 windows shown in the diagrams at the start of this section:"
   ]
  },
  {
   "cell_type": "code",
   "execution_count": 28,
   "metadata": {
    "execution": {
     "iopub.execute_input": "2022-12-14T02:53:36.143366Z",
     "iopub.status.busy": "2022-12-14T02:53:36.142841Z",
     "iopub.status.idle": "2022-12-14T02:53:36.147614Z",
     "shell.execute_reply": "2022-12-14T02:53:36.147017Z"
    },
    "id": "IsM5kRkz0UwK"
   },
   "outputs": [
    {
     "data": {
      "text/plain": [
       "Total window size: 48\n",
       "Input indices: [ 0  1  2  3  4  5  6  7  8  9 10 11 12 13 14 15 16 17 18 19 20 21 22 23]\n",
       "Label indices: [47]\n",
       "Label column name(s): ['T (degC)']"
      ]
     },
     "execution_count": 28,
     "metadata": {},
     "output_type": "execute_result"
    }
   ],
   "source": [
    "w1 = WindowGenerator(input_width=24, label_width=1, shift=24,\n",
    "                     label_columns=['T (degC)'])\n",
    "w1"
   ]
  },
  {
   "cell_type": "code",
   "execution_count": 29,
   "metadata": {
    "execution": {
     "iopub.execute_input": "2022-12-14T02:53:36.150999Z",
     "iopub.status.busy": "2022-12-14T02:53:36.150367Z",
     "iopub.status.idle": "2022-12-14T02:53:36.155048Z",
     "shell.execute_reply": "2022-12-14T02:53:36.154433Z"
    },
    "id": "viwKsYeAKFUn"
   },
   "outputs": [
    {
     "data": {
      "text/plain": [
       "Total window size: 7\n",
       "Input indices: [0 1 2 3 4 5]\n",
       "Label indices: [6]\n",
       "Label column name(s): ['T (degC)']"
      ]
     },
     "execution_count": 29,
     "metadata": {},
     "output_type": "execute_result"
    }
   ],
   "source": [
    "w2 = WindowGenerator(input_width=6, label_width=1, shift=1,\n",
    "                     label_columns=['T (degC)'])\n",
    "w2"
   ]
  },
  {
   "cell_type": "markdown",
   "metadata": {
    "id": "kJaUyTWQJd-L"
   },
   "source": [
    "### 2. Split\n",
    "\n",
    "Given a list of consecutive inputs, the `split_window` method will convert them to a window of inputs and a window of labels.\n",
    "\n",
    "The example `w2` you define earlier will be split like this:\n",
    "\n",
    "![The initial window is all consecutive samples, this splits it into an (inputs, labels) pairs](images/split_window.png)\n",
    "\n",
    "This diagram doesn't show the `features` axis of the data, but this `split_window` function also handles the `label_columns` so it can be used for both the single output and multi-output examples."
   ]
  },
  {
   "cell_type": "code",
   "execution_count": 30,
   "metadata": {
    "execution": {
     "iopub.execute_input": "2022-12-14T02:53:36.158140Z",
     "iopub.status.busy": "2022-12-14T02:53:36.157886Z",
     "iopub.status.idle": "2022-12-14T02:53:36.162734Z",
     "shell.execute_reply": "2022-12-14T02:53:36.162140Z"
    },
    "id": "W4KbxfzqkXPW"
   },
   "outputs": [],
   "source": [
    "def split_window(self, features):\n",
    "    inputs = features[:, self.input_slice, :]\n",
    "    labels = features[:, self.labels_slice, :]\n",
    "    if self.label_columns is not None:\n",
    "        labels = tf.stack(\n",
    "            [labels[:, :, self.column_indices[name]] for name in self.label_columns],\n",
    "            axis=-1)\n",
    "\n",
    "    # Slicing doesn't preserve static shape information, so set the shapes\n",
    "    # manually. This way the `tf.data.Datasets` are easier to inspect.\n",
    "    inputs.set_shape([None, self.input_width, None])\n",
    "    labels.set_shape([None, self.label_width, None])\n",
    "\n",
    "    return inputs, labels\n",
    "\n",
    "WindowGenerator.split_window = split_window"
   ]
  },
  {
   "cell_type": "markdown",
   "metadata": {
    "id": "G6U6VtVuM15s"
   },
   "source": [
    "Try it out:"
   ]
  },
  {
   "cell_type": "code",
   "execution_count": 31,
   "metadata": {
    "execution": {
     "iopub.execute_input": "2022-12-14T02:53:36.166218Z",
     "iopub.status.busy": "2022-12-14T02:53:36.165757Z",
     "iopub.status.idle": "2022-12-14T02:53:36.183503Z",
     "shell.execute_reply": "2022-12-14T02:53:36.182846Z"
    },
    "id": "YeCWbq6KLmL7"
   },
   "outputs": [],
   "source": [
    "# # Stack three slices, the length of the total window.\n",
    "# example_window = tf.stack([np.array(train_df[:w2.total_window_size]),\n",
    "#                            np.array(train_df[100:100+w2.total_window_size]),\n",
    "#                            np.array(train_df[200:200+w2.total_window_size])])\n",
    "\n",
    "# example_inputs, example_labels = w2.split_window(example_window)\n",
    "\n",
    "# print('All shapes are: (batch, time, features)')\n",
    "# print(f'Window shape: {example_window.shape}')\n",
    "# print(f'Inputs shape: {example_inputs.shape}')\n",
    "# print(f'Labels shape: {example_labels.shape}')"
   ]
  },
  {
   "cell_type": "markdown",
   "metadata": {
    "id": "xtMk1ffk2Mmd"
   },
   "source": [
    "Typically, data in TensorFlow is packed into arrays where the outermost index is across examples (the \"batch\" dimension). The middle indices are the \"time\" or \"space\" (width, height) dimension(s). The innermost indices are the features.\n",
    "\n",
    "The code above took a batch of three 7-time step windows with 19 features at each time step. It splits them into a batch of 6-time step 19-feature inputs, and a 1-time step 1-feature label. The label only has one feature because the `WindowGenerator` was initialized with `label_columns=['T (degC)']`. Initially, this tutorial will build models that predict single output labels."
   ]
  },
  {
   "cell_type": "markdown",
   "metadata": {
    "id": "tFZukGXrJoGo"
   },
   "source": [
    "### 3. Plot\n",
    "\n",
    "Here is a plot method that allows a simple visualization of the split window:"
   ]
  },
  {
   "cell_type": "code",
   "execution_count": 32,
   "metadata": {
    "execution": {
     "iopub.execute_input": "2022-12-14T02:53:36.187058Z",
     "iopub.status.busy": "2022-12-14T02:53:36.186473Z",
     "iopub.status.idle": "2022-12-14T02:53:36.189455Z",
     "shell.execute_reply": "2022-12-14T02:53:36.188870Z"
    },
    "id": "fmgd1qkYUWT7"
   },
   "outputs": [],
   "source": [
    "# w2.example = example_inputs, example_labels"
   ]
  },
  {
   "cell_type": "code",
   "execution_count": 33,
   "metadata": {
    "execution": {
     "iopub.execute_input": "2022-12-14T02:53:36.192729Z",
     "iopub.status.busy": "2022-12-14T02:53:36.192201Z",
     "iopub.status.idle": "2022-12-14T02:53:36.198628Z",
     "shell.execute_reply": "2022-12-14T02:53:36.198037Z"
    },
    "id": "jIrYccI-Hm3B"
   },
   "outputs": [],
   "source": [
    "def plot(self, model=None, plot_col='T (degC)', max_subplots=3):\n",
    "    inputs, labels = self.example\n",
    "    plt.figure(figsize=(12, 8))\n",
    "    plot_col_index = self.column_indices[plot_col]\n",
    "    max_n = min(max_subplots, len(inputs))\n",
    "    for n in range(max_n):\n",
    "        plt.subplot(max_n, 1, n+1)\n",
    "        plt.ylabel(f'{plot_col} [normed]')\n",
    "        plt.plot(self.input_indices, inputs[n, :, plot_col_index],\n",
    "                 label='Inputs', marker='.', zorder=-10)\n",
    "\n",
    "        if self.label_columns:\n",
    "            label_col_index = self.label_columns_indices.get(plot_col, None)\n",
    "        else:\n",
    "            label_col_index = plot_col_index\n",
    "\n",
    "        if label_col_index is None:\n",
    "            continue\n",
    "\n",
    "        plt.scatter(self.label_indices, labels[n, :, label_col_index],\n",
    "                    edgecolors='k', label='Labels', c='#2ca02c', s=64)\n",
    "        if model is not None:\n",
    "            predictions = model(inputs)\n",
    "            plt.scatter(self.label_indices, predictions[n, :, label_col_index],\n",
    "                      marker='X', edgecolors='k', label='Predictions',\n",
    "                      c='#ff7f0e', s=64)\n",
    "\n",
    "        if n == 0:\n",
    "            plt.legend()\n",
    "\n",
    "    plt.xlabel('Time [h]')\n",
    "\n",
    "WindowGenerator.plot = plot"
   ]
  },
  {
   "cell_type": "markdown",
   "metadata": {
    "id": "HXvctEuK68vX"
   },
   "source": [
    "This plot aligns inputs, labels, and (later) predictions based on the time that the item refers to:"
   ]
  },
  {
   "cell_type": "code",
   "execution_count": 34,
   "metadata": {
    "execution": {
     "iopub.execute_input": "2022-12-14T02:53:36.201815Z",
     "iopub.status.busy": "2022-12-14T02:53:36.201291Z",
     "iopub.status.idle": "2022-12-14T02:53:36.607476Z",
     "shell.execute_reply": "2022-12-14T02:53:36.606727Z"
    },
    "id": "XjTqUnglOOni"
   },
   "outputs": [],
   "source": [
    "# w2.plot()"
   ]
  },
  {
   "cell_type": "markdown",
   "metadata": {
    "id": "UqiqcPOldPG6"
   },
   "source": [
    "You can plot the other columns, but the example window `w2` configuration only has labels for the `T (degC)` column."
   ]
  },
  {
   "cell_type": "code",
   "execution_count": 35,
   "metadata": {
    "execution": {
     "iopub.execute_input": "2022-12-14T02:53:36.611618Z",
     "iopub.status.busy": "2022-12-14T02:53:36.610895Z",
     "iopub.status.idle": "2022-12-14T02:53:36.915581Z",
     "shell.execute_reply": "2022-12-14T02:53:36.914932Z"
    },
    "id": "EBRe4wnlfCH8"
   },
   "outputs": [],
   "source": [
    "# w2.plot(plot_col='p (mbar)')"
   ]
  },
  {
   "cell_type": "markdown",
   "metadata": {
    "id": "xCvD-UaUzYMw"
   },
   "source": [
    "### 4. Create `tf.data.Dataset`s"
   ]
  },
  {
   "cell_type": "markdown",
   "metadata": {
    "id": "kLO3SFR9Osdf"
   },
   "source": [
    "Finally, this `make_dataset` method will take a time series DataFrame and convert it to a `tf.data.Dataset` of `(input_window, label_window)` pairs using the `tf.keras.utils.timeseries_dataset_from_array` function:"
   ]
  },
  {
   "cell_type": "code",
   "execution_count": 36,
   "metadata": {
    "execution": {
     "iopub.execute_input": "2022-12-14T02:53:36.920097Z",
     "iopub.status.busy": "2022-12-14T02:53:36.919382Z",
     "iopub.status.idle": "2022-12-14T02:53:36.924198Z",
     "shell.execute_reply": "2022-12-14T02:53:36.923551Z"
    },
    "id": "35qoSQeRVfJg"
   },
   "outputs": [],
   "source": [
    "def make_dataset(self, data):\n",
    "    data = np.array(data, dtype=np.float32)\n",
    "    ds = tf.keras.utils.timeseries_dataset_from_array(\n",
    "        data=data,\n",
    "        targets=None,\n",
    "        sequence_length=self.total_window_size,\n",
    "        sequence_stride=1,\n",
    "        shuffle=True,\n",
    "        batch_size=32,)\n",
    "\n",
    "    ds = ds.map(self.split_window)\n",
    "\n",
    "    return ds\n",
    "\n",
    "WindowGenerator.make_dataset = make_dataset"
   ]
  },
  {
   "cell_type": "markdown",
   "metadata": {
    "id": "LvsxQwJaCift"
   },
   "source": [
    "The `WindowGenerator` object holds training, validation, and test data.\n",
    "\n",
    "Add properties for accessing them as `tf.data.Dataset`s using the `make_dataset` method you defined earlier. Also, add a standard example batch for easy access and plotting:"
   ]
  },
  {
   "cell_type": "code",
   "execution_count": 37,
   "metadata": {
    "execution": {
     "iopub.execute_input": "2022-12-14T02:53:36.927950Z",
     "iopub.status.busy": "2022-12-14T02:53:36.927230Z",
     "iopub.status.idle": "2022-12-14T02:53:36.933231Z",
     "shell.execute_reply": "2022-12-14T02:53:36.932553Z"
    },
    "id": "2jZ2KkqGCfzu"
   },
   "outputs": [],
   "source": [
    "@property\n",
    "def train(self):\n",
    "    return self.make_dataset(self.train_df)\n",
    "\n",
    "@property\n",
    "def val(self):\n",
    "    return self.make_dataset(self.val_df)\n",
    "\n",
    "@property\n",
    "def test(self):\n",
    "    return self.make_dataset(self.test_df)\n",
    "\n",
    "@property\n",
    "def example(self):\n",
    "    \"\"\"Get and cache an example batch of `inputs, labels` for plotting.\"\"\"\n",
    "    result = getattr(self, '_example', None)\n",
    "    if result is None:\n",
    "        # No example batch was found, so get one from the `.train` dataset\n",
    "        result = next(iter(self.train))\n",
    "        # And cache it for next time\n",
    "        self._example = result\n",
    "    return result\n",
    "\n",
    "WindowGenerator.train = train\n",
    "WindowGenerator.val = val\n",
    "WindowGenerator.test = test\n",
    "WindowGenerator.example = example"
   ]
  },
  {
   "cell_type": "markdown",
   "metadata": {
    "id": "fF_Vj6Iw3Y2w"
   },
   "source": [
    "Now, the `WindowGenerator` object gives you access to the `tf.data.Dataset` objects, so you can easily iterate over the data.\n",
    "\n",
    "The `Dataset.element_spec` property tells you the structure, data types, and shapes of the dataset elements."
   ]
  },
  {
   "cell_type": "code",
   "execution_count": 38,
   "metadata": {
    "execution": {
     "iopub.execute_input": "2022-12-14T02:53:36.936796Z",
     "iopub.status.busy": "2022-12-14T02:53:36.936157Z",
     "iopub.status.idle": "2022-12-14T02:53:37.080006Z",
     "shell.execute_reply": "2022-12-14T02:53:37.079142Z"
    },
    "id": "daJ0-U383YVs"
   },
   "outputs": [],
   "source": [
    "# Each element is an (inputs, label) pair.\n",
    "# w2.train.element_spec"
   ]
  },
  {
   "cell_type": "markdown",
   "metadata": {
    "id": "XKTx3_Z7ua-n"
   },
   "source": [
    "Iterating over a `Dataset` yields concrete batches:"
   ]
  },
  {
   "cell_type": "code",
   "execution_count": 39,
   "metadata": {
    "execution": {
     "iopub.execute_input": "2022-12-14T02:53:37.084066Z",
     "iopub.status.busy": "2022-12-14T02:53:37.083388Z",
     "iopub.status.idle": "2022-12-14T02:53:37.204070Z",
     "shell.execute_reply": "2022-12-14T02:53:37.203335Z"
    },
    "id": "6gtKXEgf4Iml"
   },
   "outputs": [],
   "source": [
    "# for example_inputs, example_labels in w2.train.take(1):\n",
    "#     print(f'Inputs shape (batch, time, features): {example_inputs.shape}')\n",
    "#     print(f'Labels shape (batch, time, features): {example_labels.shape}')"
   ]
  },
  {
   "cell_type": "markdown",
   "metadata": {
    "id": "LyuGuJUgjUK3"
   },
   "source": [
    "## Single step models\n",
    "\n",
    "The simplest model you can build on this sort of data is one that predicts a single feature's value—1 time step (one hour) into the future based only on the current conditions.\n",
    "\n",
    "So, start by building models to predict the `T (degC)` value one hour into the future.\n",
    "\n",
    "![Predict the next time step](images/narrow_window.png)\n",
    "\n",
    "Configure a `WindowGenerator` object to produce these single-step `(input, label)` pairs:"
   ]
  },
  {
   "cell_type": "code",
   "execution_count": 40,
   "metadata": {
    "execution": {
     "iopub.execute_input": "2022-12-14T02:53:37.207999Z",
     "iopub.status.busy": "2022-12-14T02:53:37.207326Z",
     "iopub.status.idle": "2022-12-14T02:53:37.212625Z",
     "shell.execute_reply": "2022-12-14T02:53:37.211993Z"
    },
    "id": "G5QX1G1JTPCr"
   },
   "outputs": [
    {
     "data": {
      "text/plain": [
       "Total window size: 2\n",
       "Input indices: [0]\n",
       "Label indices: [1]\n",
       "Label column name(s): ['T (degC)']"
      ]
     },
     "execution_count": 40,
     "metadata": {},
     "output_type": "execute_result"
    }
   ],
   "source": [
    "single_step_window = WindowGenerator(\n",
    "    input_width=1, label_width=1, shift=1,\n",
    "    label_columns=['T (degC)'])\n",
    "single_step_window"
   ]
  },
  {
   "cell_type": "code",
   "execution_count": 56,
   "metadata": {},
   "outputs": [
    {
     "data": {
      "text/plain": [
       "<tf.Tensor: shape=(32, 1, 19), dtype=float32, numpy=\n",
       "array([[[-1.27344215e+00, -9.16031480e-01, -8.14345539e-01,\n",
       "         -9.78103340e-01,  1.20444037e-01, -8.70087922e-01,\n",
       "         -9.92562234e-01, -5.24738908e-01, -9.78398979e-01,\n",
       "         -9.78008807e-01,  5.49240828e-01, -1.57696497e+00,\n",
       "          7.85759687e-01, -1.49363232e+00,  7.47522593e-01,\n",
       "          5.97762942e-01, -1.28155494e+00,  9.30951238e-01,\n",
       "          1.01964867e+00]],\n",
       "\n",
       "       [[ 2.60761231e-01,  1.02274346e+00,  9.96595502e-01,\n",
       "          1.24211895e+00, -1.15129545e-01,  9.44139004e-01,\n",
       "          1.40272725e+00,  2.82693505e-01,  1.39501977e+00,\n",
       "          1.39285278e+00, -9.34240758e-01,  2.87207574e-01,\n",
       "          5.06683767e-01,  2.98422694e-01,  5.45421541e-01,\n",
       "          1.28181887e+00,  5.97749054e-01, -9.64937210e-02,\n",
       "         -1.38268793e+00]],\n",
       "\n",
       "       [[-1.34213781e+00, -1.10711977e-01, -5.15289605e-03,\n",
       "         -5.60736001e-01, -1.00910115e+00, -3.25559914e-01,\n",
       "         -6.97903633e-01,  8.96569714e-02, -6.78913951e-01,\n",
       "         -6.79890573e-01, -2.31564671e-01, -2.21799588e+00,\n",
       "          3.55451629e-02, -1.82684517e+00,  1.01550587e-01,\n",
       "          1.12207353e+00, -8.60779047e-01, -2.54551381e-01,\n",
       "          1.41738760e+00]],\n",
       "\n",
       "       [[-1.92389190e-01,  1.16601408e+00,  1.17539728e+00,\n",
       "          1.38124144e+00, -1.81573376e-01,  1.15987086e+00,\n",
       "          1.63797891e+00,  4.23838526e-01,  1.64209497e+00,\n",
       "          1.64167595e+00, -1.17644179e+00, -2.24794969e-01,\n",
       "          9.11732912e-01, -2.61535704e-01,  9.40877974e-01,\n",
       "          1.22484958e+00, -7.06973791e-01, -3.50012332e-01,\n",
       "         -1.35657799e+00]],\n",
       "\n",
       "       [[-4.41862941e-01,  2.22045586e-01,  2.55026609e-01,\n",
       "          6.75589323e-01,  7.96963036e-01, -2.40551587e-02,\n",
       "          5.63900650e-01, -5.30965924e-01,  5.71435988e-01,\n",
       "          5.73614478e-01, -3.67070317e-01, -7.35457897e-01,\n",
       "         -9.24712062e-01, -4.15591210e-01, -4.93083179e-01,\n",
       "          1.08345199e+00,  9.09102082e-01, -1.06547511e+00,\n",
       "          1.03532529e+00]],\n",
       "\n",
       "       [[-2.09261805e-01,  5.97553253e-01,  6.10337794e-01,\n",
       "          5.26427150e-01, -5.31913579e-01,  3.82716358e-01,\n",
       "          3.76174599e-01,  2.82693505e-01,  3.76770735e-01,\n",
       "          3.78781289e-01, -6.32710218e-01, -1.99172720e-01,\n",
       "         -1.05587053e+00, -4.33861494e-01, -1.54417562e+00,\n",
       "          1.40894103e+00, -1.23149090e-01,  8.49038213e-02,\n",
       "         -1.37394822e+00]],\n",
       "\n",
       "       [[-5.87690592e-01,  2.47464567e-01,  2.91703880e-01,\n",
       "          4.92005080e-01,  2.77493089e-01,  6.37040648e-04,\n",
       "          3.33401561e-01, -2.88113475e-01,  3.43078673e-01,\n",
       "          3.45917881e-01, -4.14680392e-01,  1.98993132e-01,\n",
       "         -1.93380013e-01,  2.07913280e-01, -1.55694768e-01,\n",
       "          1.00009966e+00,  1.00005925e+00,  1.17624497e+00,\n",
       "         -6.52766168e-01]],\n",
       "\n",
       "       [[ 1.82424054e-01, -4.25428897e-02, -5.67303300e-02,\n",
       "         -5.73134907e-02, -1.69492677e-01, -2.68377990e-01,\n",
       "         -2.63044506e-01, -1.98860019e-01, -2.67122030e-01,\n",
       "         -2.64402956e-01,  6.75243512e-02, -7.52926469e-01,\n",
       "         -2.11861387e-01, -9.14528787e-01, -2.28741497e-01,\n",
       "         -1.84519336e-01, -1.40195179e+00,  1.12191820e+00,\n",
       "          7.87995040e-01]],\n",
       "\n",
       "       [[ 1.70939636e+00, -1.84658095e-01, -3.15763652e-01,\n",
       "         -9.55155313e-01, -1.53219533e+00, -3.86640608e-01,\n",
       "         -9.75928307e-01,  2.37028956e-01, -9.93373215e-01,\n",
       "         -9.94440556e-01,  6.16383255e-01,  2.82311320e-01,\n",
       "         -1.01105325e-01,  2.89887995e-01, -1.79141104e-01,\n",
       "         -1.22469604e+00,  7.07178652e-01,  1.30556905e+00,\n",
       "         -3.32433611e-01]],\n",
       "\n",
       "       [[-9.20322299e-01,  4.23086613e-01,  4.93428975e-01,\n",
       "          5.42203903e-01, -7.88874552e-02,  1.83879152e-01,\n",
       "          3.95184845e-01, -5.14880307e-02,  4.14206386e-01,\n",
       "          4.13992107e-01, -6.55660689e-01, -6.41047716e-01,\n",
       "         -2.14972287e-01, -7.24536955e-01, -2.04678312e-01,\n",
       "          8.61015141e-01,  1.12202501e+00, -1.35427916e+00,\n",
       "          6.46984398e-01]],\n",
       "\n",
       "       [[ 1.43220329e+00, -9.37984228e-01, -1.04243243e+00,\n",
       "         -6.42488360e-01,  1.08689976e+00, -8.83083820e-01,\n",
       "         -7.59686887e-01, -7.46834695e-01, -7.76246548e-01,\n",
       "         -7.76133478e-01,  1.25606751e+00,  2.78311074e-01,\n",
       "         -6.39172316e-01,  2.90084094e-01, -5.87834239e-01,\n",
       "         -1.22469604e+00,  7.07178652e-01,  1.04354382e+00,\n",
       "          8.95499945e-01]],\n",
       "\n",
       "       [[-8.51626635e-01, -1.75370240e+00, -1.68313873e+00,\n",
       "         -2.03944993e+00, -6.40327670e-03, -1.23137379e+00,\n",
       "         -1.52484882e+00, -6.34748995e-01, -1.51747203e+00,\n",
       "         -1.52025545e+00,  1.50949967e+00, -2.57244086e+00,\n",
       "         -1.59234798e+00, -2.85447598e+00, -1.61130834e+00,\n",
       "         -4.83623773e-01, -1.32876623e+00, -4.48803276e-01,\n",
       "          1.37954760e+00]],\n",
       "\n",
       "       [[-9.32374179e-01,  1.76984668e-01,  2.49295771e-01,\n",
       "          2.28102684e-01, -1.21169895e-01, -6.82412013e-02,\n",
       "          2.92378291e-02, -1.34514496e-01,  4.73372266e-02,\n",
       "          4.77996245e-02, -4.22981650e-01,  9.20131207e-01,\n",
       "         -2.23817885e-01,  1.04604673e+00, -2.48429686e-01,\n",
       "         -1.39268351e+00, -2.45462582e-01,  9.58357334e-01,\n",
       "         -9.46402192e-01]],\n",
       "\n",
       "       [[-1.70695812e-01,  8.80628228e-01,  8.90002131e-01,\n",
       "          7.58775949e-01, -7.21580505e-01,  7.44002223e-01,\n",
       "          6.75585806e-01,  5.98194122e-01,  6.76255763e-01,\n",
       "          6.79246962e-01, -8.83212507e-01,  1.53952909e+00,\n",
       "          1.02306402e+00,  1.54651952e+00,  9.82878685e-01,\n",
       "         -1.23182848e-01, -1.40866876e+00,  1.20872080e+00,\n",
       "         -5.90811968e-01]],\n",
       "\n",
       "       [[ 4.62378934e-02,  5.66357195e-01,  5.59906542e-01,\n",
       "          9.53834295e-01,  4.52663213e-01,  3.46327841e-01,\n",
       "          9.51234162e-01, -2.77735174e-01,  9.49535847e-01,\n",
       "          9.49196517e-01, -5.69718361e-01, -4.64131117e-01,\n",
       "         -5.22701107e-02, -5.10976255e-01, -3.17204334e-02,\n",
       "          8.11254919e-01,  1.15850830e+00, -7.74947107e-01,\n",
       "         -1.20242906e+00]],\n",
       "\n",
       "       [[-1.08904850e+00, -1.39899206e+00, -1.31063509e+00,\n",
       "         -1.51451361e+00,  2.41251007e-01, -1.10011518e+00,\n",
       "         -1.29434967e+00, -6.26446366e-01, -1.28162754e+00,\n",
       "         -1.28551662e+00,  1.08076477e+00, -1.39623249e+00,\n",
       "         -1.35679734e+00, -1.38329005e+00, -1.21747005e+00,\n",
       "          1.28181887e+00,  5.97749054e-01,  6.60332024e-01,\n",
       "          1.22736609e+00]],\n",
       "\n",
       "       [[ 1.45063251e-01, -1.10436296e+00, -1.11005616e+00,\n",
       "         -1.23053169e+00,  6.00405559e-02, -9.67557132e-01,\n",
       "         -1.14226782e+00, -5.45495510e-01, -1.14311576e+00,\n",
       "         -1.14467335e+00,  1.10444772e+00, -7.31020510e-01,\n",
       "         -1.31100103e-01, -6.07856512e-01, -4.46610637e-02,\n",
       "          4.83777374e-01,  1.32897103e+00,  9.33385968e-01,\n",
       "          1.01725888e+00]],\n",
       "\n",
       "       [[ 4.65643078e-01,  7.36202240e-01,  6.95154011e-01,\n",
       "          4.83399570e-01, -9.10039365e-01,  5.52962542e-01,\n",
       "          3.23896468e-01,  6.02345407e-01,  3.09386611e-01,\n",
       "          3.13054442e-01, -5.86076736e-01,  1.87943965e-01,\n",
       "         -1.82437122e-01,  1.83222711e-01, -1.94683805e-01,\n",
       "         -1.30651605e+00,  5.41275144e-01,  4.02491353e-03,\n",
       "         -1.38066375e+00]],\n",
       "\n",
       "       [[-3.81252132e-02, -1.15982258e+00, -1.15246427e+00,\n",
       "         -1.12583137e+00,  5.00985980e-01, -9.94848490e-01,\n",
       "         -1.08286083e+00, -6.43051624e-01, -1.07947516e+00,\n",
       "         -1.08129394e+00,  1.10908663e+00, -5.45838237e-01,\n",
       "         -1.41236293e+00, -7.17374086e-01, -1.60631657e+00,\n",
       "          2.45658010e-01, -1.39256585e+00, -6.13483012e-01,\n",
       "          1.32478714e+00]],\n",
       "\n",
       "       [[ 4.66848254e-01, -4.51557398e-01, -4.85396117e-01,\n",
       "         -1.74922168e-01,  7.30519235e-01, -5.85477829e-01,\n",
       "         -3.72353375e-01, -6.09841049e-01, -3.79428923e-01,\n",
       "         -3.79424959e-01,  5.23360431e-01,  9.04665664e-02,\n",
       "          1.72055990e-01,  2.57415101e-02,  1.70467496e-01,\n",
       "          1.40894103e+00, -1.23149090e-01,  1.23187029e+00,\n",
       "         -5.41414440e-01]],\n",
       "\n",
       "       [[-2.32160360e-01,  6.57634497e-01,  6.72230721e-01,\n",
       "          5.88099957e-01, -5.49430609e-01,  4.55493361e-01,\n",
       "          4.52215523e-01,  3.32509398e-01,  4.55385566e-01,\n",
       "          4.58592474e-01, -6.94481254e-01,  3.35285902e-01,\n",
       "         -1.39430594e+00,  3.53864491e-01, -1.48428607e+00,\n",
       "          5.97762942e-01, -1.28155494e+00, -1.26270115e+00,\n",
       "         -7.57310748e-01]],\n",
       "\n",
       "       [[ 8.29609632e-01,  2.97147125e-01,  2.29810968e-01,\n",
       "          5.65948285e-05, -8.56884301e-01,  5.13210297e-02,\n",
       "         -2.06013814e-01,  2.61936903e-01, -2.22199291e-01,\n",
       "         -2.22149968e-01, -8.21422338e-02, -1.99993336e+00,\n",
       "         -1.46432519e+00, -1.94144452e+00, -1.28561628e+00,\n",
       "         -4.83623773e-01, -1.32876623e+00, -1.02189147e+00,\n",
       "          1.07497597e+00]],\n",
       "\n",
       "       [[ 4.77694929e-01,  1.63279903e+00,  1.58572435e+00,\n",
       "          1.30666029e+00, -1.26098359e+00,  1.97471344e+00,\n",
       "          1.50965977e+00,  1.83528852e+00,  1.49235249e+00,\n",
       "          1.49379051e+00, -1.40008724e+00,  5.56935906e-01,\n",
       "         -2.08621129e-01,  5.84045351e-01, -1.78364366e-01,\n",
       "         -1.40878749e+00,  1.23353921e-01, -1.39846647e+00,\n",
       "         -5.04473805e-01]],\n",
       "\n",
       "       [[-6.94952250e-01, -1.74908078e+00, -1.68886960e+00,\n",
       "         -1.70240068e+00,  8.99648964e-01, -1.23007417e+00,\n",
       "         -1.38464832e+00, -7.55137384e-01, -1.37521660e+00,\n",
       "         -1.37941217e+00,  1.53855407e+00,  1.49540627e+00,\n",
       "          1.14436495e+00,  1.36816788e+00,  1.00202942e+00,\n",
       "         -1.15840554e+00,  8.11226964e-01,  8.71151567e-01,\n",
       "          1.07493150e+00]],\n",
       "\n",
       "       [[-8.09445083e-01,  9.09513474e-01,  9.70233679e-01,\n",
       "          1.53327215e+00,  8.39245498e-01,  7.82989919e-01,\n",
       "          1.91362727e+00, -4.18880165e-01,  1.94157994e+00,\n",
       "          1.93979418e+00, -1.12101877e+00,  2.72624373e-01,\n",
       "         -1.45258516e-01,  2.70192087e-01, -3.38326871e-01,\n",
       "         -1.41416907e+00,  1.02415084e-04,  7.43905902e-01,\n",
       "         -1.12819052e+00]],\n",
       "\n",
       "       [[-4.81634140e-01,  6.35681689e-01,  6.71084583e-01,\n",
       "          6.61246836e-01, -3.56743485e-01,  4.28201973e-01,\n",
       "          5.47266722e-01,  2.07969695e-01,  5.56461751e-01,\n",
       "          5.57182789e-01, -7.40870535e-01, -2.51922369e-01,\n",
       "          7.72599518e-01, -4.32622224e-01,  9.24733520e-01,\n",
       "          7.07199752e-01, -1.22458959e+00,  1.34517324e+00,\n",
       "         -1.13543525e-01]],\n",
       "\n",
       "       [[ 6.33164108e-01,  2.86748439e-01,  2.35541791e-01,\n",
       "          1.92246377e-01, -4.67281848e-01,  4.09243144e-02,\n",
       "         -8.78263824e-03,  7.30516762e-02, -2.37904657e-02,\n",
       "         -2.26220097e-02, -1.30973101e-01, -4.21208926e-02,\n",
       "         -4.21395421e-01,  5.06057814e-02, -2.03551620e-01,\n",
       "         -1.39268351e+00, -2.45462582e-01,  1.32960939e+00,\n",
       "          2.70323753e-01]],\n",
       "\n",
       "       [[-5.80459476e-01,  5.64046383e-01,  6.06899321e-01,\n",
       "          1.03415239e+00,  6.51994705e-01,  3.43728662e-01,\n",
       "          1.07242441e+00, -3.87745231e-01,  1.08804762e+00,\n",
       "          1.08769238e+00, -7.27442086e-01, -1.54588491e-01,\n",
       "         -7.82458901e-01, -1.27369180e-01, -6.54645979e-01,\n",
       "          1.30666959e+00, -5.41070282e-01, -1.49732137e+00,\n",
       "         -9.90559161e-02]],\n",
       "\n",
       "       [[ 2.04117432e-01, -4.30760056e-01, -4.45280343e-01,\n",
       "         -2.59543031e-01,  4.46622849e-01, -5.71182311e-01,\n",
       "         -4.48394299e-01, -5.18511951e-01, -4.54300165e-01,\n",
       "         -4.52193975e-01,  4.41324592e-01,  1.75337183e+00,\n",
       "          1.33687317e+00,  1.66153955e+00,  1.20468879e+00,\n",
       "          1.15855920e+00, -8.11022103e-01,  1.32484984e+00,\n",
       "         -2.49569595e-01]],\n",
       "\n",
       "       [[ 1.29395813e-01,  1.50801492e+00,  1.48944652e+00,\n",
       "          1.18331456e+00, -1.22957385e+00,  1.73948777e+00,\n",
       "          1.30529976e+00,  1.63810062e+00,  1.30143070e+00,\n",
       "          1.30130470e+00, -1.37054455e+00,  3.37903291e-01,\n",
       "         -6.76227987e-01,  3.63036931e-01, -8.41886699e-01,\n",
       "         -8.11101317e-01, -1.15830350e+00, -9.09402966e-01,\n",
       "         -1.11790037e+00]],\n",
       "\n",
       "       [[ 1.41653585e+00, -9.51849103e-01, -1.05389404e+00,\n",
       "         -8.71968687e-01,  5.00985980e-01, -8.89581740e-01,\n",
       "         -9.21273887e-01, -6.16068006e-01, -9.37219799e-01,\n",
       "         -9.35755849e-01,  1.27291417e+00, -5.93158528e-02,\n",
       "         -8.98962542e-02, -1.23052351e-01, -1.12460844e-01,\n",
       "         -1.40207005e+00, -1.84481516e-01, -7.35329092e-01,\n",
       "          1.26922822e+00]],\n",
       "\n",
       "       [[-4.05355878e-02,  4.14998740e-01,  4.15489733e-01,\n",
       "          5.43638170e-01, -5.47260642e-02,  1.76081613e-01,\n",
       "          3.97561103e-01, -6.60176650e-02,  3.95488560e-01,\n",
       "          3.97560418e-01, -4.31282908e-01, -7.83793569e-01,\n",
       "          1.10641599e+00, -8.47102880e-01,  1.11888468e+00,\n",
       "         -1.08329833e+00, -9.08897281e-01, -1.50269723e+00,\n",
       "          2.30013561e-02]]], dtype=float32)>"
      ]
     },
     "execution_count": 56,
     "metadata": {},
     "output_type": "execute_result"
    }
   ],
   "source": [
    "single_step_window.example[0]"
   ]
  },
  {
   "cell_type": "markdown",
   "metadata": {
    "id": "RKTm8ajVGw4N"
   },
   "source": [
    "The `window` object creates `tf.data.Dataset`s from the training, validation, and test sets, allowing you to easily iterate over batches of data.\n"
   ]
  },
  {
   "cell_type": "code",
   "execution_count": 41,
   "metadata": {
    "execution": {
     "iopub.execute_input": "2022-12-14T02:53:37.216063Z",
     "iopub.status.busy": "2022-12-14T02:53:37.215501Z",
     "iopub.status.idle": "2022-12-14T02:53:37.334730Z",
     "shell.execute_reply": "2022-12-14T02:53:37.333968Z"
    },
    "id": "Do4ILUaBF8oc"
   },
   "outputs": [],
   "source": [
    "# for example_inputs, example_labels in single_step_window.train.take(1):\n",
    "#     print(f'Inputs shape (batch, time, features): {example_inputs.shape}')\n",
    "#     print(f'Labels shape (batch, time, features): {example_labels.shape}')"
   ]
  },
  {
   "cell_type": "markdown",
   "metadata": {
    "id": "D1bbPiR3VAm_"
   },
   "source": [
    "### Baseline\n",
    "\n",
    "Before building a trainable model it would be good to have a performance baseline as a point for comparison with the later more complicated models.\n",
    "\n",
    "This first task is to predict temperature one hour into the future, given the current value of all features. The current values include the current temperature. \n",
    "\n",
    "So, start with a model that just returns the current temperature as the prediction, predicting \"No change\". This is a reasonable baseline since temperature changes slowly. Of course, this baseline will work less well if you make a prediction further in the future.\n",
    "\n",
    "![Send the input to the output](images/baseline.png)"
   ]
  },
  {
   "cell_type": "code",
   "execution_count": 42,
   "metadata": {
    "execution": {
     "iopub.execute_input": "2022-12-14T02:53:37.338564Z",
     "iopub.status.busy": "2022-12-14T02:53:37.337898Z",
     "iopub.status.idle": "2022-12-14T02:53:37.342433Z",
     "shell.execute_reply": "2022-12-14T02:53:37.341754Z"
    },
    "id": "9TybQaIsi3yg"
   },
   "outputs": [],
   "source": [
    "class Baseline(tf.keras.Model):\n",
    "    def __init__(self, label_index=None):\n",
    "        super().__init__()\n",
    "        self.label_index = label_index\n",
    "\n",
    "    def call(self, inputs):\n",
    "        if self.label_index is None:\n",
    "            return inputs\n",
    "        result = inputs[:, :, self.label_index]\n",
    "        return result[:, :, tf.newaxis]"
   ]
  },
  {
   "cell_type": "markdown",
   "metadata": {
    "id": "0vb3f948i8p8"
   },
   "source": [
    "Instantiate and evaluate this model:"
   ]
  },
  {
   "cell_type": "code",
   "execution_count": 43,
   "metadata": {
    "execution": {
     "iopub.execute_input": "2022-12-14T02:53:37.345784Z",
     "iopub.status.busy": "2022-12-14T02:53:37.345504Z",
     "iopub.status.idle": "2022-12-14T02:53:38.829235Z",
     "shell.execute_reply": "2022-12-14T02:53:38.828433Z"
    },
    "id": "IS3-QKc4sX0D"
   },
   "outputs": [
    {
     "name": "stdout",
     "output_type": "stream",
     "text": [
      "439/439 [==============================] - 2s 3ms/step - loss: 0.0128 - mean_absolute_error: 0.0785\n"
     ]
    }
   ],
   "source": [
    "baseline = Baseline(label_index=column_indices['T (degC)'])\n",
    "\n",
    "baseline.compile(loss=tf.keras.losses.MeanSquaredError(),\n",
    "                 metrics=[tf.keras.metrics.MeanAbsoluteError()])\n",
    "\n",
    "val_performance = {}\n",
    "performance = {}\n",
    "val_performance['Baseline'] = baseline.evaluate(single_step_window.val)\n",
    "performance['Baseline'] = baseline.evaluate(single_step_window.test, verbose=0)"
   ]
  },
  {
   "cell_type": "markdown",
   "metadata": {
    "id": "nhBxQcCSs7Ec"
   },
   "source": [
    "That printed some performance metrics, but those don't give you a feeling for how well the model is doing.\n",
    "\n",
    "The `WindowGenerator` has a plot method, but the plots won't be very interesting with only a single sample.\n",
    "\n",
    "So, create a wider `WindowGenerator` that generates windows 24 hours of consecutive inputs and labels at a time. The new `wide_window` variable doesn't change the way the model operates. The model still makes predictions one hour into the future based on a single input time step. Here, the `time` axis acts like the `batch` axis: each prediction is made independently with no interaction between time steps:"
   ]
  },
  {
   "cell_type": "code",
   "execution_count": 44,
   "metadata": {
    "execution": {
     "iopub.execute_input": "2022-12-14T02:53:38.833526Z",
     "iopub.status.busy": "2022-12-14T02:53:38.832871Z",
     "iopub.status.idle": "2022-12-14T02:53:38.838442Z",
     "shell.execute_reply": "2022-12-14T02:53:38.837664Z"
    },
    "id": "C8jNR5uuJ5Zp"
   },
   "outputs": [
    {
     "data": {
      "text/plain": [
       "Total window size: 25\n",
       "Input indices: [ 0  1  2  3  4  5  6  7  8  9 10 11 12 13 14 15 16 17 18 19 20 21 22 23]\n",
       "Label indices: [ 1  2  3  4  5  6  7  8  9 10 11 12 13 14 15 16 17 18 19 20 21 22 23 24]\n",
       "Label column name(s): ['T (degC)']"
      ]
     },
     "execution_count": 44,
     "metadata": {},
     "output_type": "execute_result"
    }
   ],
   "source": [
    "wide_window = WindowGenerator(\n",
    "    input_width=24, label_width=24, shift=1,\n",
    "    label_columns=['T (degC)'])\n",
    "\n",
    "wide_window"
   ]
  },
  {
   "cell_type": "markdown",
   "metadata": {
    "id": "ZAnj7CFZkuYv"
   },
   "source": [
    "This expanded window can be passed directly to the same `baseline` model without any code changes. This is possible because the inputs and labels have the same number of time steps, and the baseline just forwards the input to the output:\n",
    "\n",
    "![One prediction 1h into the future, ever hour.](images/last_window.png)"
   ]
  },
  {
   "cell_type": "code",
   "execution_count": 45,
   "metadata": {
    "execution": {
     "iopub.execute_input": "2022-12-14T02:53:38.841801Z",
     "iopub.status.busy": "2022-12-14T02:53:38.841172Z",
     "iopub.status.idle": "2022-12-14T02:53:38.948402Z",
     "shell.execute_reply": "2022-12-14T02:53:38.947720Z"
    },
    "id": "sGKdvdg087qs"
   },
   "outputs": [
    {
     "name": "stdout",
     "output_type": "stream",
     "text": [
      "Input shape: (32, 24, 19)\n",
      "Output shape: (32, 24, 1)\n"
     ]
    }
   ],
   "source": [
    "print('Input shape:', wide_window.example[0].shape)\n",
    "print('Output shape:', baseline(wide_window.example[0]).shape)"
   ]
  },
  {
   "cell_type": "markdown",
   "metadata": {
    "id": "SKqQHX1K0JW-"
   },
   "source": [
    "By plotting the baseline model's predictions, notice that it is simply the labels shifted right by one hour:"
   ]
  },
  {
   "cell_type": "code",
   "execution_count": 46,
   "metadata": {
    "execution": {
     "iopub.execute_input": "2022-12-14T02:53:38.952211Z",
     "iopub.status.busy": "2022-12-14T02:53:38.951623Z",
     "iopub.status.idle": "2022-12-14T02:53:39.388820Z",
     "shell.execute_reply": "2022-12-14T02:53:39.388183Z"
    },
    "id": "jQyAPVLgWTOZ"
   },
   "outputs": [
    {
     "data": {
      "image/png": "[encoded data removed]",
      "text/plain": [
       "<Figure size 864x576 with 3 Axes>"
      ]
     },
     "metadata": {
      "needs_background": "light"
     },
     "output_type": "display_data"
    }
   ],
   "source": [
    "wide_window.plot(baseline)"
   ]
  },
  {
   "cell_type": "markdown",
   "metadata": {
    "id": "e93TLUhfAVg2"
   },
   "source": [
    "In the above plots of three examples the single step model is run over the course of 24 hours. This deserves some explanation:\n",
    "\n",
    "- The blue `Inputs` line shows the input temperature at each time step. The model receives all features, this plot only shows the temperature.\n",
    "- The green `Labels` dots show the target prediction value. These dots are shown at the prediction time, not the input time. That is why the range of labels is shifted 1 step relative to the inputs.\n",
    "- The orange `Predictions` crosses are the model's prediction's for each output time step. If the model were predicting perfectly the predictions would land directly on the `Labels`."
   ]
  },
  {
   "cell_type": "markdown",
   "metadata": {
    "id": "E4aOJScj52Yu"
   },
   "source": [
    "### Linear model\n",
    "\n",
    "The simplest **trainable** model you can apply to this task is to insert linear transformation between the input and output. In this case the output from a time step only depends on that step:\n",
    "\n",
    "![A single step prediction](images/narrow_window.png)\n",
    "\n",
    "A `tf.keras.layers.Dense` layer with no `activation` set is a linear model. The layer only transforms the last axis of the data from `(batch, time, inputs)` to `(batch, time, units)`; it is applied independently to every item across the `batch` and `time` axes."
   ]
  },
  {
   "cell_type": "code",
   "execution_count": 47,
   "metadata": {
    "execution": {
     "iopub.execute_input": "2022-12-14T02:53:39.393800Z",
     "iopub.status.busy": "2022-12-14T02:53:39.393319Z",
     "iopub.status.idle": "2022-12-14T02:53:39.402005Z",
     "shell.execute_reply": "2022-12-14T02:53:39.401366Z"
    },
    "id": "6341OXuQ5xA9"
   },
   "outputs": [],
   "source": [
    "linear = tf.keras.Sequential([\n",
    "    tf.keras.layers.Dense(units=1)\n",
    "])"
   ]
  },
  {
   "cell_type": "code",
   "execution_count": 48,
   "metadata": {
    "execution": {
     "iopub.execute_input": "2022-12-14T02:53:39.405610Z",
     "iopub.status.busy": "2022-12-14T02:53:39.404883Z",
     "iopub.status.idle": "2022-12-14T02:53:40.013545Z",
     "shell.execute_reply": "2022-12-14T02:53:40.012794Z"
    },
    "id": "KwaOM8RucUSn"
   },
   "outputs": [
    {
     "name": "stdout",
     "output_type": "stream",
     "text": [
      "Input shape: (32, 1, 19)\n",
      "Output shape: (32, 1, 1)\n"
     ]
    }
   ],
   "source": [
    "print('Input shape:', single_step_window.example[0].shape)\n",
    "print('Output shape:', linear(single_step_window.example[0]).shape)"
   ]
  },
  {
   "cell_type": "markdown",
   "metadata": {
    "id": "OMZTYIj3bYLg"
   },
   "source": [
    "This tutorial trains many models, so package the training procedure into a function:"
   ]
  },
  {
   "cell_type": "code",
   "execution_count": 49,
   "metadata": {
    "execution": {
     "iopub.execute_input": "2022-12-14T02:53:40.017735Z",
     "iopub.status.busy": "2022-12-14T02:53:40.017062Z",
     "iopub.status.idle": "2022-12-14T02:53:40.022405Z",
     "shell.execute_reply": "2022-12-14T02:53:40.021732Z"
    },
    "id": "CbCL6VIrk-Gt"
   },
   "outputs": [],
   "source": [
    "MAX_EPOCHS = 20\n",
    "\n",
    "def compile_and_fit(model, window, patience=2):\n",
    "    early_stopping = tf.keras.callbacks.EarlyStopping(monitor='val_loss',\n",
    "                                                    patience=patience,\n",
    "                                                    mode='min')\n",
    "\n",
    "    model.compile(loss=tf.keras.losses.MeanSquaredError(),\n",
    "                optimizer=tf.keras.optimizers.Adam(),\n",
    "                metrics=[tf.keras.metrics.MeanAbsoluteError()])\n",
    "\n",
    "    history = model.fit(window.train, epochs=MAX_EPOCHS,\n",
    "                      validation_data=window.val,\n",
    "                      callbacks=[early_stopping])\n",
    "    return history"
   ]
  },
  {
   "cell_type": "markdown",
   "metadata": {
    "id": "OobVjM-schwj"
   },
   "source": [
    "Train the model and evaluate its performance:"
   ]
  },
  {
   "cell_type": "code",
   "execution_count": 50,
   "metadata": {
    "execution": {
     "iopub.execute_input": "2022-12-14T02:53:40.026093Z",
     "iopub.status.busy": "2022-12-14T02:53:40.025588Z",
     "iopub.status.idle": "2022-12-14T02:54:22.820663Z",
     "shell.execute_reply": "2022-12-14T02:54:22.819822Z"
    },
    "id": "9agbz2qB9bLS"
   },
   "outputs": [
    {
     "name": "stdout",
     "output_type": "stream",
     "text": [
      "Epoch 1/20\n",
      "1534/1534 [==============================] - 6s 3ms/step - loss: 0.3594 - mean_absolute_error: 0.3212 - val_loss: 0.0179 - val_mean_absolute_error: 0.0990\n",
      "Epoch 2/20\n",
      "1534/1534 [==============================] - 5s 3ms/step - loss: 0.0141 - mean_absolute_error: 0.0883 - val_loss: 0.0112 - val_mean_absolute_error: 0.0796\n",
      "Epoch 3/20\n",
      "1534/1534 [==============================] - 5s 3ms/step - loss: 0.0106 - mean_absolute_error: 0.0760 - val_loss: 0.0098 - val_mean_absolute_error: 0.0745\n",
      "Epoch 4/20\n",
      "1534/1534 [==============================] - 6s 4ms/step - loss: 0.0101 - mean_absolute_error: 0.0738 - val_loss: 0.0096 - val_mean_absolute_error: 0.0738\n",
      "Epoch 5/20\n",
      "1534/1534 [==============================] - 6s 4ms/step - loss: 0.0099 - mean_absolute_error: 0.0731 - val_loss: 0.0095 - val_mean_absolute_error: 0.0733\n",
      "Epoch 6/20\n",
      "1534/1534 [==============================] - 6s 4ms/step - loss: 0.0098 - mean_absolute_error: 0.0726 - val_loss: 0.0094 - val_mean_absolute_error: 0.0728\n",
      "Epoch 7/20\n",
      "1534/1534 [==============================] - 6s 4ms/step - loss: 0.0096 - mean_absolute_error: 0.0720 - val_loss: 0.0092 - val_mean_absolute_error: 0.0722\n",
      "Epoch 8/20\n",
      "1534/1534 [==============================] - 6s 4ms/step - loss: 0.0095 - mean_absolute_error: 0.0715 - val_loss: 0.0091 - val_mean_absolute_error: 0.0718\n",
      "Epoch 9/20\n",
      "1534/1534 [==============================] - 6s 4ms/step - loss: 0.0094 - mean_absolute_error: 0.0712 - val_loss: 0.0091 - val_mean_absolute_error: 0.0715\n",
      "Epoch 10/20\n",
      "1534/1534 [==============================] - 6s 4ms/step - loss: 0.0093 - mean_absolute_error: 0.0708 - val_loss: 0.0090 - val_mean_absolute_error: 0.0716\n",
      "Epoch 11/20\n",
      "1534/1534 [==============================] - 6s 4ms/step - loss: 0.0093 - mean_absolute_error: 0.0706 - val_loss: 0.0090 - val_mean_absolute_error: 0.0715\n",
      "Epoch 12/20\n",
      "1534/1534 [==============================] - 6s 4ms/step - loss: 0.0092 - mean_absolute_error: 0.0703 - val_loss: 0.0089 - val_mean_absolute_error: 0.0708\n",
      "Epoch 13/20\n",
      "1534/1534 [==============================] - 7s 4ms/step - loss: 0.0092 - mean_absolute_error: 0.0702 - val_loss: 0.0089 - val_mean_absolute_error: 0.0707\n",
      "Epoch 14/20\n",
      "1534/1534 [==============================] - 6s 4ms/step - loss: 0.0091 - mean_absolute_error: 0.0700 - val_loss: 0.0088 - val_mean_absolute_error: 0.0704\n",
      "Epoch 15/20\n",
      "1534/1534 [==============================] - 5s 4ms/step - loss: 0.0091 - mean_absolute_error: 0.0700 - val_loss: 0.0090 - val_mean_absolute_error: 0.0713\n",
      "Epoch 16/20\n",
      "1534/1534 [==============================] - 5s 4ms/step - loss: 0.0091 - mean_absolute_error: 0.0698 - val_loss: 0.0088 - val_mean_absolute_error: 0.0705\n",
      "439/439 [==============================] - 1s 3ms/step - loss: 0.0088 - mean_absolute_error: 0.0705\n"
     ]
    }
   ],
   "source": [
    "history = compile_and_fit(linear, single_step_window)\n",
    "\n",
    "val_performance['Linear'] = linear.evaluate(single_step_window.val)\n",
    "performance['Linear'] = linear.evaluate(single_step_window.test, verbose=0)"
   ]
  },
  {
   "cell_type": "markdown",
   "metadata": {
    "id": "7U9XukYh8beN"
   },
   "source": [
    "Like the `baseline` model, the linear model can be called on batches of wide windows. Used this way the model makes a set of independent predictions on consecutive time steps. The `time` axis acts like another `batch` axis. There are no interactions between the predictions at each time step.\n",
    "\n",
    "![A single step prediction](images/wide_window.png)"
   ]
  },
  {
   "cell_type": "code",
   "execution_count": 51,
   "metadata": {
    "execution": {
     "iopub.execute_input": "2022-12-14T02:54:22.825098Z",
     "iopub.status.busy": "2022-12-14T02:54:22.824491Z",
     "iopub.status.idle": "2022-12-14T02:54:22.830004Z",
     "shell.execute_reply": "2022-12-14T02:54:22.829297Z"
    },
    "id": "K9UVM5Sw9KQN"
   },
   "outputs": [
    {
     "name": "stdout",
     "output_type": "stream",
     "text": [
      "Input shape: (32, 24, 19)\n",
      "Output shape: (32, 24, 1)\n"
     ]
    }
   ],
   "source": [
    "print('Input shape:', wide_window.example[0].shape)\n",
    "print('Output shape:', baseline(wide_window.example[0]).shape)"
   ]
  },
  {
   "cell_type": "markdown",
   "metadata": {
    "id": "X-CGj85oKaOG"
   },
   "source": [
    "Here is the plot of its example predictions on the `wide_window`, note how in many cases the prediction is clearly better than just returning the input temperature, but in a few cases it's worse:"
   ]
  },
  {
   "cell_type": "code",
   "execution_count": 52,
   "metadata": {
    "execution": {
     "iopub.execute_input": "2022-12-14T02:54:22.833369Z",
     "iopub.status.busy": "2022-12-14T02:54:22.832838Z",
     "iopub.status.idle": "2022-12-14T02:54:23.283352Z",
     "shell.execute_reply": "2022-12-14T02:54:23.282665Z"
    },
    "id": "bCC8VVo-OvwV"
   },
   "outputs": [
    {
     "data": {
      "image/png": "[encoded data removed]",
      "text/plain": [
       "<Figure size 864x576 with 3 Axes>"
      ]
     },
     "metadata": {
      "needs_background": "light"
     },
     "output_type": "display_data"
    }
   ],
   "source": [
    "wide_window.plot(linear)"
   ]
  },
  {
   "cell_type": "markdown",
   "metadata": {
    "id": "Is51vU8EMl6c"
   },
   "source": [
    "One advantage to linear models is that they're relatively simple to  interpret.\n",
    "You can pull out the layer's weights and visualize the weight assigned to each input:"
   ]
  },
  {
   "cell_type": "code",
   "execution_count": null,
   "metadata": {
    "execution": {
     "iopub.execute_input": "2022-12-14T02:54:23.288266Z",
     "iopub.status.busy": "2022-12-14T02:54:23.287750Z",
     "iopub.status.idle": "2022-12-14T02:54:23.492078Z",
     "shell.execute_reply": "2022-12-14T02:54:23.491392Z"
    },
    "id": "d4uCTbsmK8VI"
   },
   "outputs": [],
   "source": [
    "plt.bar(x = range(len(train_df.columns)),\n",
    "        height=linear.layers[0].kernel[:,0].numpy())\n",
    "axis = plt.gca()\n",
    "axis.set_xticks(range(len(train_df.columns)))\n",
    "_ = axis.set_xticklabels(train_df.columns, rotation=90)"
   ]
  },
  {
   "cell_type": "markdown",
   "metadata": {
    "id": "Ylng7215boIY"
   },
   "source": [
    "Sometimes the model doesn't even place the most weight on the input `T (degC)`. This is one of the risks of random initialization. "
   ]
  },
  {
   "cell_type": "markdown",
   "metadata": {
    "id": "W18e6da1cNbw"
   },
   "source": [
    "### Dense\n",
    "\n",
    "Before applying models that actually operate on multiple time-steps, it's worth checking the performance of deeper, more powerful, single input step models.\n",
    "\n",
    "Here's a model similar to the `linear` model, except it stacks several a few `Dense` layers between the input and the output: "
   ]
  },
  {
   "cell_type": "code",
   "execution_count": null,
   "metadata": {
    "execution": {
     "iopub.execute_input": "2022-12-14T02:54:23.496245Z",
     "iopub.status.busy": "2022-12-14T02:54:23.495564Z",
     "iopub.status.idle": "2022-12-14T02:55:14.305567Z",
     "shell.execute_reply": "2022-12-14T02:55:14.304582Z"
    },
    "id": "Z86WkYp7cNAD"
   },
   "outputs": [],
   "source": [
    "dense = tf.keras.Sequential([\n",
    "    tf.keras.layers.Dense(units=64, activation='relu'),\n",
    "    tf.keras.layers.Dense(units=64, activation='relu'),\n",
    "    tf.keras.layers.Dense(units=1)\n",
    "])\n",
    "\n",
    "history = compile_and_fit(dense, single_step_window)\n",
    "\n",
    "val_performance['Dense'] = dense.evaluate(single_step_window.val)\n",
    "performance['Dense'] = dense.evaluate(single_step_window.test, verbose=0)"
   ]
  },
  {
   "cell_type": "markdown",
   "metadata": {
    "id": "j5dv_whJdswH"
   },
   "source": [
    "### Multi-step dense\n",
    "\n",
    "A single-time-step model has no context for the current values of its inputs. It can't see how the input features are changing over time. To address this issue the model needs access to multiple time steps when making predictions:\n",
    "\n",
    "![Three time steps are used for each prediction.](images/conv_window.png)\n"
   ]
  },
  {
   "cell_type": "markdown",
   "metadata": {
    "id": "Zac-ti8agbJ7"
   },
   "source": [
    "The `baseline`, `linear` and `dense` models handled each time step independently. Here the model will take multiple time steps as input to produce a single output.\n",
    "\n",
    "Create a `WindowGenerator` that will produce batches of three-hour inputs and one-hour labels:"
   ]
  },
  {
   "cell_type": "markdown",
   "metadata": {
    "id": "gtN4BwZ37niR"
   },
   "source": [
    "Note that the `Window`'s `shift` parameter is relative to the end of the two windows.\n"
   ]
  },
  {
   "cell_type": "code",
   "execution_count": null,
   "metadata": {
    "execution": {
     "iopub.execute_input": "2022-12-14T02:55:14.310314Z",
     "iopub.status.busy": "2022-12-14T02:55:14.309617Z",
     "iopub.status.idle": "2022-12-14T02:55:14.315109Z",
     "shell.execute_reply": "2022-12-14T02:55:14.314426Z"
    },
    "id": "lBh0j5djUKY2"
   },
   "outputs": [],
   "source": [
    "CONV_WIDTH = 3\n",
    "conv_window = WindowGenerator(\n",
    "    input_width=CONV_WIDTH,\n",
    "    label_width=1,\n",
    "    shift=1,\n",
    "    label_columns=['T (degC)'])\n",
    "\n",
    "conv_window"
   ]
  },
  {
   "cell_type": "code",
   "execution_count": null,
   "metadata": {
    "execution": {
     "iopub.execute_input": "2022-12-14T02:55:14.318263Z",
     "iopub.status.busy": "2022-12-14T02:55:14.317746Z",
     "iopub.status.idle": "2022-12-14T02:55:14.856347Z",
     "shell.execute_reply": "2022-12-14T02:55:14.855710Z"
    },
    "id": "dCQ5gvs68Xkd"
   },
   "outputs": [],
   "source": [
    "conv_window.plot()\n",
    "plt.title(\"Given 3 hours of inputs, predict 1 hour into the future.\")"
   ]
  },
  {
   "cell_type": "markdown",
   "metadata": {
    "id": "We0HdMxKeqB_"
   },
   "source": [
    "You could train a `dense` model on a multiple-input-step window by adding a `tf.keras.layers.Flatten` as the first layer of the model:"
   ]
  },
  {
   "cell_type": "code",
   "execution_count": null,
   "metadata": {
    "execution": {
     "iopub.execute_input": "2022-12-14T02:55:14.860111Z",
     "iopub.status.busy": "2022-12-14T02:55:14.859842Z",
     "iopub.status.idle": "2022-12-14T02:55:14.871157Z",
     "shell.execute_reply": "2022-12-14T02:55:14.870543Z"
    },
    "id": "oNQnUOkOnC1G"
   },
   "outputs": [],
   "source": [
    "multi_step_dense = tf.keras.Sequential([\n",
    "    # Shape: (time, features) => (time*features)\n",
    "    tf.keras.layers.Flatten(),\n",
    "    tf.keras.layers.Dense(units=32, activation='relu'),\n",
    "    tf.keras.layers.Dense(units=32, activation='relu'),\n",
    "    tf.keras.layers.Dense(units=1),\n",
    "    # Add back the time dimension.\n",
    "    # Shape: (outputs) => (1, outputs)\n",
    "    tf.keras.layers.Reshape([1, -1]),\n",
    "])"
   ]
  },
  {
   "cell_type": "code",
   "execution_count": null,
   "metadata": {
    "execution": {
     "iopub.execute_input": "2022-12-14T02:55:14.874237Z",
     "iopub.status.busy": "2022-12-14T02:55:14.873751Z",
     "iopub.status.idle": "2022-12-14T02:55:14.930406Z",
     "shell.execute_reply": "2022-12-14T02:55:14.929703Z"
    },
    "id": "cayD74luo4Vq"
   },
   "outputs": [],
   "source": [
    "print('Input shape:', conv_window.example[0].shape)\n",
    "print('Output shape:', multi_step_dense(conv_window.example[0]).shape)"
   ]
  },
  {
   "cell_type": "code",
   "execution_count": null,
   "metadata": {
    "execution": {
     "iopub.execute_input": "2022-12-14T02:55:14.933317Z",
     "iopub.status.busy": "2022-12-14T02:55:14.933070Z",
     "iopub.status.idle": "2022-12-14T02:55:46.389862Z",
     "shell.execute_reply": "2022-12-14T02:55:46.389001Z"
    },
    "id": "fu91yEbRo9-J"
   },
   "outputs": [],
   "source": [
    "history = compile_and_fit(multi_step_dense, conv_window)\n",
    "\n",
    "IPython.display.clear_output()\n",
    "val_performance['Multi step dense'] = multi_step_dense.evaluate(conv_window.val)\n",
    "performance['Multi step dense'] = multi_step_dense.evaluate(conv_window.test, verbose=0)"
   ]
  },
  {
   "cell_type": "code",
   "execution_count": null,
   "metadata": {
    "execution": {
     "iopub.execute_input": "2022-12-14T02:55:46.394436Z",
     "iopub.status.busy": "2022-12-14T02:55:46.393848Z",
     "iopub.status.idle": "2022-12-14T02:55:46.839329Z",
     "shell.execute_reply": "2022-12-14T02:55:46.838633Z"
    },
    "id": "tnqdXYT6pkEh"
   },
   "outputs": [],
   "source": [
    "conv_window.plot(multi_step_dense)"
   ]
  },
  {
   "cell_type": "markdown",
   "metadata": {
    "id": "gWfrsP8mq8lV"
   },
   "source": [
    "The main down-side of this approach is that the resulting model can only be executed on input windows of exactly this shape. "
   ]
  },
  {
   "cell_type": "code",
   "execution_count": null,
   "metadata": {
    "execution": {
     "iopub.execute_input": "2022-12-14T02:55:46.843229Z",
     "iopub.status.busy": "2022-12-14T02:55:46.842620Z",
     "iopub.status.idle": "2022-12-14T02:55:46.875414Z",
     "shell.execute_reply": "2022-12-14T02:55:46.874761Z"
    },
    "id": "j-q6tz5Yq8Jk"
   },
   "outputs": [],
   "source": [
    "print('Input shape:', wide_window.example[0].shape)\n",
    "try:\n",
    "    print('Output shape:', multi_step_dense(wide_window.example[0]).shape)\n",
    "except Exception as e:\n",
    "    print(f'\\n{type(e).__name__}:{e}')"
   ]
  },
  {
   "cell_type": "markdown",
   "metadata": {
    "id": "bvvajm3ip_8V"
   },
   "source": [
    "The convolutional models in the next section fix this problem."
   ]
  },
  {
   "cell_type": "markdown",
   "metadata": {
    "id": "CrpU6gwSJome"
   },
   "source": [
    "### Convolution neural network\n",
    " \n",
    "A convolution layer (`tf.keras.layers.Conv1D`) also takes multiple time steps as input to each prediction."
   ]
  },
  {
   "cell_type": "markdown",
   "metadata": {
    "id": "cdLBwoaHmsWb"
   },
   "source": [
    "Below is the **same** model as `multi_step_dense`, re-written with a convolution. \n",
    "\n",
    "Note the changes:\n",
    "* The `tf.keras.layers.Flatten` and the first `tf.keras.layers.Dense` are replaced by a `tf.keras.layers.Conv1D`.\n",
    "* The `tf.keras.layers.Reshape` is no longer necessary since the convolution keeps the time axis in its output."
   ]
  },
  {
   "cell_type": "code",
   "execution_count": null,
   "metadata": {
    "execution": {
     "iopub.execute_input": "2022-12-14T02:55:46.878739Z",
     "iopub.status.busy": "2022-12-14T02:55:46.878480Z",
     "iopub.status.idle": "2022-12-14T02:55:46.888054Z",
     "shell.execute_reply": "2022-12-14T02:55:46.887425Z"
    },
    "id": "5azaMBj4ac9t"
   },
   "outputs": [],
   "source": [
    "conv_model = tf.keras.Sequential([\n",
    "    tf.keras.layers.Conv1D(filters=32,\n",
    "                           kernel_size=(CONV_WIDTH,),\n",
    "                           activation='relu'),\n",
    "    tf.keras.layers.Dense(units=32, activation='relu'),\n",
    "    tf.keras.layers.Dense(units=1),\n",
    "])"
   ]
  },
  {
   "cell_type": "markdown",
   "metadata": {
    "id": "ftaH6B5ECRiK"
   },
   "source": [
    "Run it on an example batch to check that the model produces outputs with the expected shape:"
   ]
  },
  {
   "cell_type": "code",
   "execution_count": null,
   "metadata": {
    "execution": {
     "iopub.execute_input": "2022-12-14T02:55:46.891431Z",
     "iopub.status.busy": "2022-12-14T02:55:46.890789Z",
     "iopub.status.idle": "2022-12-14T02:55:46.937023Z",
     "shell.execute_reply": "2022-12-14T02:55:46.936409Z"
    },
    "id": "5YNgt1-e98lH"
   },
   "outputs": [],
   "source": [
    "print(\"Conv model on `conv_window`\")\n",
    "print('Input shape:', conv_window.example[0].shape)\n",
    "print('Output shape:', conv_model(conv_window.example[0]).shape)"
   ]
  },
  {
   "cell_type": "markdown",
   "metadata": {
    "id": "5m4kC-jGCY3x"
   },
   "source": [
    "Train and evaluate it on the ` conv_window` and it should give performance similar to the `multi_step_dense` model."
   ]
  },
  {
   "cell_type": "code",
   "execution_count": null,
   "metadata": {
    "execution": {
     "iopub.execute_input": "2022-12-14T02:55:46.939794Z",
     "iopub.status.busy": "2022-12-14T02:55:46.939569Z",
     "iopub.status.idle": "2022-12-14T02:56:33.628852Z",
     "shell.execute_reply": "2022-12-14T02:56:33.628072Z"
    },
    "id": "QDVWdm4paUW7"
   },
   "outputs": [],
   "source": [
    "history = compile_and_fit(conv_model, conv_window)\n",
    "\n",
    "IPython.display.clear_output()\n",
    "val_performance['Conv'] = conv_model.evaluate(conv_window.val)\n",
    "performance['Conv'] = conv_model.evaluate(conv_window.test, verbose=0)"
   ]
  },
  {
   "cell_type": "markdown",
   "metadata": {
    "id": "sYRipDeXs0Kr"
   },
   "source": [
    "The difference between this `conv_model` and the `multi_step_dense` model is that the `conv_model` can be run on inputs of any length. The convolutional layer is applied to a sliding window of inputs:\n",
    "\n",
    "![Executing a convolutional model on a sequence](images/wide_conv_window.png)\n",
    "\n",
    "If you run it on wider input, it produces wider output:"
   ]
  },
  {
   "cell_type": "code",
   "execution_count": null,
   "metadata": {
    "execution": {
     "iopub.execute_input": "2022-12-14T02:56:33.633001Z",
     "iopub.status.busy": "2022-12-14T02:56:33.632499Z",
     "iopub.status.idle": "2022-12-14T02:56:33.685620Z",
     "shell.execute_reply": "2022-12-14T02:56:33.684958Z"
    },
    "id": "hoqccxx9r5jF"
   },
   "outputs": [],
   "source": [
    "print(\"Wide window\")\n",
    "print('Input shape:', wide_window.example[0].shape)\n",
    "print('Labels shape:', wide_window.example[1].shape)\n",
    "print('Output shape:', conv_model(wide_window.example[0]).shape)"
   ]
  },
  {
   "cell_type": "markdown",
   "metadata": {
    "id": "h_WGxtLIHhRF"
   },
   "source": [
    "Note that the output is shorter than the input. To make training or plotting work, you need the labels, and prediction to have the same length. So build a `WindowGenerator` to produce wide windows with a few extra input time steps so the label and prediction lengths match: "
   ]
  },
  {
   "cell_type": "code",
   "execution_count": null,
   "metadata": {
    "execution": {
     "iopub.execute_input": "2022-12-14T02:56:33.689427Z",
     "iopub.status.busy": "2022-12-14T02:56:33.688608Z",
     "iopub.status.idle": "2022-12-14T02:56:33.694526Z",
     "shell.execute_reply": "2022-12-14T02:56:33.693931Z"
    },
    "id": "_VPvJ_VwTc0f"
   },
   "outputs": [],
   "source": [
    "LABEL_WIDTH = 24\n",
    "INPUT_WIDTH = LABEL_WIDTH + (CONV_WIDTH - 1)\n",
    "wide_conv_window = WindowGenerator(\n",
    "    input_width=INPUT_WIDTH,\n",
    "    label_width=LABEL_WIDTH,\n",
    "    shift=1,\n",
    "    label_columns=['T (degC)'])\n",
    "\n",
    "wide_conv_window"
   ]
  },
  {
   "cell_type": "code",
   "execution_count": null,
   "metadata": {
    "execution": {
     "iopub.execute_input": "2022-12-14T02:56:33.697301Z",
     "iopub.status.busy": "2022-12-14T02:56:33.697036Z",
     "iopub.status.idle": "2022-12-14T02:56:33.819884Z",
     "shell.execute_reply": "2022-12-14T02:56:33.819174Z"
    },
    "id": "gtqlWYXeKXej"
   },
   "outputs": [],
   "source": [
    "print(\"Wide conv window\")\n",
    "print('Input shape:', wide_conv_window.example[0].shape)\n",
    "print('Labels shape:', wide_conv_window.example[1].shape)\n",
    "print('Output shape:', conv_model(wide_conv_window.example[0]).shape)"
   ]
  },
  {
   "cell_type": "markdown",
   "metadata": {
    "id": "yzxbbS56cSBV"
   },
   "source": [
    "Now, you can plot the model's predictions on a wider window. Note the 3 input time steps before the first prediction. Every prediction here is based on the 3 preceding time steps:"
   ]
  },
  {
   "cell_type": "code",
   "execution_count": null,
   "metadata": {
    "execution": {
     "iopub.execute_input": "2022-12-14T02:56:33.823565Z",
     "iopub.status.busy": "2022-12-14T02:56:33.822965Z",
     "iopub.status.idle": "2022-12-14T02:56:34.480381Z",
     "shell.execute_reply": "2022-12-14T02:56:34.479689Z"
    },
    "id": "gR7VyL45UuEe"
   },
   "outputs": [],
   "source": [
    "wide_conv_window.plot(conv_model)"
   ]
  },
  {
   "cell_type": "markdown",
   "metadata": {
    "id": "H4crpOcoMlSe"
   },
   "source": [
    "### Recurrent neural network\n",
    "\n",
    "A Recurrent Neural Network (RNN) is a type of neural network well-suited to time series data. RNNs process a time series step-by-step, maintaining an internal state from time-step to time-step.\n",
    "\n",
    "You can learn more in the [Text generation with an RNN](https://www.tensorflow.org/text/tutorials/text_generation) tutorial and the [Recurrent Neural Networks (RNN) with Keras](https://www.tensorflow.org/guide/keras/rnn) guide.\n",
    "\n",
    "In this tutorial, you will use an RNN layer called Long Short-Term Memory (`tf.keras.layers.LSTM`)."
   ]
  },
  {
   "cell_type": "markdown",
   "metadata": {
    "id": "vfQbHSMb1ATa"
   },
   "source": [
    "An important constructor argument for all Keras RNN layers, such as `tf.keras.layers.LSTM`, is the `return_sequences` argument. This setting can configure the layer in one of two ways:\n",
    "\n",
    "1. If `False`, the default, the layer only returns the output of the final time step, giving the model time to warm up its internal state before making a single prediction: \n",
    "\n",
    "![An LSTM warming up and making a single prediction](images/lstm_1_window.png)\n",
    "\n",
    "2. If `True`, the layer returns an output for each input. This is useful for:\n",
    "  * Stacking RNN layers. \n",
    "  * Training a model on multiple time steps simultaneously.\n",
    "\n",
    "![An LSTM making a prediction after every time step](images/lstm_many_window.png)"
   ]
  },
  {
   "cell_type": "code",
   "execution_count": null,
   "metadata": {
    "execution": {
     "iopub.execute_input": "2022-12-14T02:56:34.485222Z",
     "iopub.status.busy": "2022-12-14T02:56:34.484949Z",
     "iopub.status.idle": "2022-12-14T02:56:34.497801Z",
     "shell.execute_reply": "2022-12-14T02:56:34.497050Z"
    },
    "id": "DXKLCJy8nWNU"
   },
   "outputs": [],
   "source": [
    "lstm_model = tf.keras.models.Sequential([\n",
    "    # Shape [batch, time, features] => [batch, time, lstm_units]\n",
    "    tf.keras.layers.LSTM(32, return_sequences=True),\n",
    "    # Shape => [batch, time, features]\n",
    "    tf.keras.layers.Dense(units=1)\n",
    "])"
   ]
  },
  {
   "cell_type": "markdown",
   "metadata": {
    "id": "F124B00KZcLC"
   },
   "source": [
    "With `return_sequences=True`, the model can be trained on 24 hours of data at a time.\n",
    "\n",
    "Note: This will give a pessimistic view of the model's performance. On the first time step, the model has no access to previous steps and, therefore, can't do any better than the simple `linear` and `dense` models shown earlier."
   ]
  },
  {
   "cell_type": "code",
   "execution_count": null,
   "metadata": {
    "execution": {
     "iopub.execute_input": "2022-12-14T02:56:34.501143Z",
     "iopub.status.busy": "2022-12-14T02:56:34.500598Z",
     "iopub.status.idle": "2022-12-14T02:56:35.018916Z",
     "shell.execute_reply": "2022-12-14T02:56:35.018166Z"
    },
    "id": "eZEROCQVYV6q"
   },
   "outputs": [],
   "source": [
    "print('Input shape:', wide_window.example[0].shape)\n",
    "print('Output shape:', lstm_model(wide_window.example[0]).shape)"
   ]
  },
  {
   "cell_type": "code",
   "execution_count": null,
   "metadata": {
    "execution": {
     "iopub.execute_input": "2022-12-14T02:56:35.022494Z",
     "iopub.status.busy": "2022-12-14T02:56:35.021777Z",
     "iopub.status.idle": "2022-12-14T02:58:20.702374Z",
     "shell.execute_reply": "2022-12-14T02:58:20.701484Z"
    },
    "id": "uvdWRl1e9WJl"
   },
   "outputs": [],
   "source": [
    "history = compile_and_fit(lstm_model, wide_window)\n",
    "\n",
    "IPython.display.clear_output()\n",
    "val_performance['LSTM'] = lstm_model.evaluate(wide_window.val)\n",
    "performance['LSTM'] = lstm_model.evaluate(wide_window.test, verbose=0)"
   ]
  },
  {
   "cell_type": "code",
   "execution_count": null,
   "metadata": {
    "execution": {
     "iopub.execute_input": "2022-12-14T02:58:20.706657Z",
     "iopub.status.busy": "2022-12-14T02:58:20.706105Z",
     "iopub.status.idle": "2022-12-14T02:58:21.181581Z",
     "shell.execute_reply": "2022-12-14T02:58:21.180834Z"
    },
    "id": "NwAOWCVgB26e"
   },
   "outputs": [],
   "source": [
    "wide_window.plot(lstm_model)"
   ]
  },
  {
   "cell_type": "markdown",
   "metadata": {
    "id": "pYglOCKehi8F"
   },
   "source": [
    "### Performance"
   ]
  },
  {
   "cell_type": "markdown",
   "metadata": {
    "id": "2pCk0_rwhi8H"
   },
   "source": [
    "With this dataset typically each of the models does slightly better than the one before it:"
   ]
  },
  {
   "cell_type": "code",
   "execution_count": null,
   "metadata": {
    "execution": {
     "iopub.execute_input": "2022-12-14T02:58:21.186590Z",
     "iopub.status.busy": "2022-12-14T02:58:21.186027Z",
     "iopub.status.idle": "2022-12-14T02:58:21.384330Z",
     "shell.execute_reply": "2022-12-14T02:58:21.383636Z"
    },
    "id": "JjEkt488hi8I"
   },
   "outputs": [],
   "source": [
    "x = np.arange(len(performance))\n",
    "width = 0.3\n",
    "metric_name = 'mean_absolute_error'\n",
    "metric_index = lstm_model.metrics_names.index('mean_absolute_error')\n",
    "val_mae = [v[metric_index] for v in val_performance.values()]\n",
    "test_mae = [v[metric_index] for v in performance.values()]\n",
    "\n",
    "plt.ylabel('mean_absolute_error [T (degC), normalized]')\n",
    "plt.bar(x - 0.17, val_mae, width, label='Validation')\n",
    "plt.bar(x + 0.17, test_mae, width, label='Test')\n",
    "plt.xticks(ticks=x, labels=performance.keys(),\n",
    "           rotation=45)\n",
    "_ = plt.legend()"
   ]
  },
  {
   "cell_type": "code",
   "execution_count": null,
   "metadata": {
    "execution": {
     "iopub.execute_input": "2022-12-14T02:58:21.387838Z",
     "iopub.status.busy": "2022-12-14T02:58:21.387303Z",
     "iopub.status.idle": "2022-12-14T02:58:21.391323Z",
     "shell.execute_reply": "2022-12-14T02:58:21.390737Z"
    },
    "id": "cBMCpsdphi8L"
   },
   "outputs": [],
   "source": [
    "for name, value in performance.items():\n",
    "    print(f'{name:12s}: {value[1]:0.4f}')"
   ]
  },
  {
   "cell_type": "markdown",
   "metadata": {
    "id": "b5rUJ_2YMWzG"
   },
   "source": [
    "### Multi-output models\n",
    "\n",
    "The models so far all predicted a single output feature, `T (degC)`, for a single time step.\n",
    "\n",
    "All of these models can be converted to predict multiple features just by changing the number of units in the output layer and adjusting the training windows to include all features in the `labels` (`example_labels`):"
   ]
  },
  {
   "cell_type": "code",
   "execution_count": null,
   "metadata": {
    "execution": {
     "iopub.execute_input": "2022-12-14T02:58:21.394518Z",
     "iopub.status.busy": "2022-12-14T02:58:21.394053Z",
     "iopub.status.idle": "2022-12-14T02:58:21.527912Z",
     "shell.execute_reply": "2022-12-14T02:58:21.527165Z"
    },
    "id": "9Gk0Z91xjOwv"
   },
   "outputs": [],
   "source": [
    "single_step_window = WindowGenerator(\n",
    "    # `WindowGenerator` returns all features as labels if you \n",
    "    # don't set the `label_columns` argument.\n",
    "    input_width=1, label_width=1, shift=1)\n",
    "\n",
    "wide_window = WindowGenerator(\n",
    "    input_width=24, label_width=24, shift=1)\n",
    "\n",
    "for example_inputs, example_labels in wide_window.train.take(1):\n",
    "    print(f'Inputs shape (batch, time, features): {example_inputs.shape}')\n",
    "    print(f'Labels shape (batch, time, features): {example_labels.shape}')"
   ]
  },
  {
   "cell_type": "markdown",
   "metadata": {
    "id": "XmcjHfDskX1N"
   },
   "source": [
    "Note above that the `features` axis of the labels now has the same depth as the inputs, instead of `1`."
   ]
  },
  {
   "cell_type": "markdown",
   "metadata": {
    "id": "9k7S5IHNhSNF"
   },
   "source": [
    "#### Baseline\n",
    "\n",
    "The same baseline model (`Baseline`) can be used here, but this time repeating all features instead of selecting a specific `label_index`:"
   ]
  },
  {
   "cell_type": "code",
   "execution_count": null,
   "metadata": {
    "execution": {
     "iopub.execute_input": "2022-12-14T02:58:21.531944Z",
     "iopub.status.busy": "2022-12-14T02:58:21.531295Z",
     "iopub.status.idle": "2022-12-14T02:58:21.545808Z",
     "shell.execute_reply": "2022-12-14T02:58:21.544829Z"
    },
    "id": "sqqB9W-pjr5i"
   },
   "outputs": [],
   "source": [
    "baseline = Baseline()\n",
    "baseline.compile(loss=tf.keras.losses.MeanSquaredError(),\n",
    "                 metrics=[tf.keras.metrics.MeanAbsoluteError()])"
   ]
  },
  {
   "cell_type": "code",
   "execution_count": null,
   "metadata": {
    "execution": {
     "iopub.execute_input": "2022-12-14T02:58:21.549359Z",
     "iopub.status.busy": "2022-12-14T02:58:21.548744Z",
     "iopub.status.idle": "2022-12-14T02:58:22.933788Z",
     "shell.execute_reply": "2022-12-14T02:58:22.932895Z"
    },
    "id": "ltQdgaqQjQWu"
   },
   "outputs": [],
   "source": [
    "val_performance = {}\n",
    "performance = {}\n",
    "val_performance['Baseline'] = baseline.evaluate(wide_window.val)\n",
    "performance['Baseline'] = baseline.evaluate(wide_window.test, verbose=0)"
   ]
  },
  {
   "cell_type": "markdown",
   "metadata": {
    "id": "dfbCrf5q3P6n"
   },
   "source": [
    "#### Dense"
   ]
  },
  {
   "cell_type": "code",
   "execution_count": null,
   "metadata": {
    "execution": {
     "iopub.execute_input": "2022-12-14T02:58:22.937799Z",
     "iopub.status.busy": "2022-12-14T02:58:22.937526Z",
     "iopub.status.idle": "2022-12-14T02:58:22.946109Z",
     "shell.execute_reply": "2022-12-14T02:58:22.945330Z"
    },
    "id": "NdpzH1dYjdIN"
   },
   "outputs": [],
   "source": [
    "dense = tf.keras.Sequential([\n",
    "    tf.keras.layers.Dense(units=64, activation='relu'),\n",
    "    tf.keras.layers.Dense(units=64, activation='relu'),\n",
    "    tf.keras.layers.Dense(units=num_features)\n",
    "])"
   ]
  },
  {
   "cell_type": "code",
   "execution_count": null,
   "metadata": {
    "execution": {
     "iopub.execute_input": "2022-12-14T02:58:22.949296Z",
     "iopub.status.busy": "2022-12-14T02:58:22.948681Z",
     "iopub.status.idle": "2022-12-14T02:59:13.948302Z",
     "shell.execute_reply": "2022-12-14T02:59:13.947538Z"
    },
    "id": "6uHuU9Cd3PTo"
   },
   "outputs": [],
   "source": [
    "history = compile_and_fit(dense, single_step_window)\n",
    "\n",
    "IPython.display.clear_output()\n",
    "val_performance['Dense'] = dense.evaluate(single_step_window.val)\n",
    "performance['Dense'] = dense.evaluate(single_step_window.test, verbose=0)"
   ]
  },
  {
   "cell_type": "markdown",
   "metadata": {
    "id": "dsc9pur_mHsx"
   },
   "source": [
    "#### RNN\n"
   ]
  },
  {
   "cell_type": "code",
   "execution_count": null,
   "metadata": {
    "execution": {
     "iopub.execute_input": "2022-12-14T02:59:13.952839Z",
     "iopub.status.busy": "2022-12-14T02:59:13.952241Z",
     "iopub.status.idle": "2022-12-14T03:01:16.136343Z",
     "shell.execute_reply": "2022-12-14T03:01:16.135604Z"
    },
    "id": "4QbGLMyomXaz"
   },
   "outputs": [],
   "source": [
    "%%time\n",
    "wide_window = WindowGenerator(\n",
    "    input_width=24, label_width=24, shift=1)\n",
    "\n",
    "lstm_model = tf.keras.models.Sequential([\n",
    "    # Shape [batch, time, features] => [batch, time, lstm_units]\n",
    "    tf.keras.layers.LSTM(32, return_sequences=True),\n",
    "    # Shape => [batch, time, features]\n",
    "    tf.keras.layers.Dense(units=num_features)\n",
    "])\n",
    "\n",
    "history = compile_and_fit(lstm_model, wide_window)\n",
    "\n",
    "IPython.display.clear_output()\n",
    "val_performance['LSTM'] = lstm_model.evaluate( wide_window.val)\n",
    "performance['LSTM'] = lstm_model.evaluate( wide_window.test, verbose=0)\n",
    "\n",
    "print()"
   ]
  },
  {
   "cell_type": "markdown",
   "metadata": {
    "id": "UwhY2f_Nn0_K"
   },
   "source": [
    "<a id=\"residual\"></a>\n",
    "\n",
    "#### Advanced: Residual connections\n",
    "\n",
    "The `Baseline` model from earlier took advantage of the fact that the sequence doesn't change drastically from time step to time step. Every model trained in this tutorial so far was randomly initialized, and then had to learn that the output is a a small change from the previous time step.\n",
    "\n",
    "While you can get around this issue with careful initialization, it's  simpler to build this into the model structure.\n",
    "\n",
    "It's common in time series analysis to build models that instead of predicting the next value, predict how the value will change in the next time step. Similarly, <a href=\"https://arxiv.org/abs/1512.03385\" class=\"external\">residual networks</a>—or ResNets—in deep learning refer to architectures where each layer adds to the model's accumulating result.\n",
    "\n",
    "That is how you take advantage of the knowledge that the change should be small.\n",
    "\n",
    "![A model with a residual connection](images/residual.png)\n",
    "\n",
    "Essentially, this initializes the model to match the `Baseline`. For this task it helps models converge faster, with slightly better performance."
   ]
  },
  {
   "cell_type": "markdown",
   "metadata": {
    "id": "yP58A_ORx0kM"
   },
   "source": [
    "This approach can be used in conjunction with any model discussed in this tutorial. \n",
    "\n",
    "Here, it is being applied to the LSTM model, note the use of the `tf.initializers.zeros` to ensure that the initial predicted changes are small, and don't overpower the residual connection. There are no symmetry-breaking concerns for the gradients here, since the `zeros` are only used on the last layer."
   ]
  },
  {
   "cell_type": "code",
   "execution_count": null,
   "metadata": {
    "execution": {
     "iopub.execute_input": "2022-12-14T03:01:16.140402Z",
     "iopub.status.busy": "2022-12-14T03:01:16.139838Z",
     "iopub.status.idle": "2022-12-14T03:01:16.144894Z",
     "shell.execute_reply": "2022-12-14T03:01:16.144235Z"
    },
    "id": "7YlfnDQC22TQ"
   },
   "outputs": [],
   "source": [
    "class ResidualWrapper(tf.keras.Model):\n",
    "    def __init__(self, model):\n",
    "        super().__init__()\n",
    "        self.model = model\n",
    "\n",
    "    def call(self, inputs, *args, **kwargs):\n",
    "        delta = self.model(inputs, *args, **kwargs)\n",
    "\n",
    "        # The prediction for each time step is the input\n",
    "        # from the previous time step plus the delta\n",
    "        # calculated by the model.\n",
    "        return inputs + delta"
   ]
  },
  {
   "cell_type": "code",
   "execution_count": null,
   "metadata": {
    "execution": {
     "iopub.execute_input": "2022-12-14T03:01:16.148249Z",
     "iopub.status.busy": "2022-12-14T03:01:16.147727Z",
     "iopub.status.idle": "2022-12-14T03:02:12.236817Z",
     "shell.execute_reply": "2022-12-14T03:02:12.235994Z"
    },
    "id": "NNeH02pspc9B"
   },
   "outputs": [],
   "source": [
    "%%time\n",
    "residual_lstm = ResidualWrapper(\n",
    "    tf.keras.Sequential([\n",
    "    tf.keras.layers.LSTM(32, return_sequences=True),\n",
    "    tf.keras.layers.Dense(\n",
    "        num_features,\n",
    "        # The predicted deltas should start small.\n",
    "        # Therefore, initialize the output layer with zeros.\n",
    "        kernel_initializer=tf.initializers.zeros())\n",
    "]))\n",
    "\n",
    "history = compile_and_fit(residual_lstm, wide_window)\n",
    "\n",
    "IPython.display.clear_output()\n",
    "val_performance['Residual LSTM'] = residual_lstm.evaluate(wide_window.val)\n",
    "performance['Residual LSTM'] = residual_lstm.evaluate(wide_window.test, verbose=0)\n",
    "print()"
   ]
  },
  {
   "cell_type": "markdown",
   "metadata": {
    "id": "I42Er9Du6co1"
   },
   "source": [
    "#### Performance"
   ]
  },
  {
   "cell_type": "markdown",
   "metadata": {
    "id": "LZxR38P_6pUi"
   },
   "source": [
    "Here is the overall performance for these multi-output models."
   ]
  },
  {
   "cell_type": "code",
   "execution_count": null,
   "metadata": {
    "execution": {
     "iopub.execute_input": "2022-12-14T03:02:12.240849Z",
     "iopub.status.busy": "2022-12-14T03:02:12.240246Z",
     "iopub.status.idle": "2022-12-14T03:02:12.400892Z",
     "shell.execute_reply": "2022-12-14T03:02:12.399865Z"
    },
    "id": "6XgTK9tnr7rc"
   },
   "outputs": [],
   "source": [
    "x = np.arange(len(performance))\n",
    "width = 0.3\n",
    "\n",
    "metric_name = 'mean_absolute_error'\n",
    "metric_index = lstm_model.metrics_names.index('mean_absolute_error')\n",
    "val_mae = [v[metric_index] for v in val_performance.values()]\n",
    "test_mae = [v[metric_index] for v in performance.values()]\n",
    "\n",
    "plt.bar(x - 0.17, val_mae, width, label='Validation')\n",
    "plt.bar(x + 0.17, test_mae, width, label='Test')\n",
    "plt.xticks(ticks=x, labels=performance.keys(),\n",
    "           rotation=45)\n",
    "plt.ylabel('MAE (average over all outputs)')\n",
    "_ = plt.legend()"
   ]
  },
  {
   "cell_type": "code",
   "execution_count": null,
   "metadata": {
    "execution": {
     "iopub.execute_input": "2022-12-14T03:02:12.404613Z",
     "iopub.status.busy": "2022-12-14T03:02:12.404077Z",
     "iopub.status.idle": "2022-12-14T03:02:12.408276Z",
     "shell.execute_reply": "2022-12-14T03:02:12.407681Z"
    },
    "id": "URz3ajCc6kBj"
   },
   "outputs": [],
   "source": [
    "for name, value in performance.items():\n",
    "    print(f'{name:15s}: {value[1]:0.4f}')"
   ]
  },
  {
   "cell_type": "markdown",
   "metadata": {
    "id": "_Vt2MJhNxwPU"
   },
   "source": [
    "The above performances are averaged across all model outputs."
   ]
  },
  {
   "cell_type": "markdown",
   "metadata": {
    "id": "eYokb7Om2YbK"
   },
   "source": [
    "## Multi-step models\n",
    "\n",
    "Both the single-output and multiple-output models in the previous sections made **single time step predictions**, one hour into the future.\n",
    "\n",
    "This section looks at how to expand these models to make **multiple time step predictions**.\n",
    "\n",
    "In a multi-step prediction, the model needs to learn to predict a range of future values. Thus, unlike a single step model, where only a single future point is predicted, a multi-step model predicts a sequence of the future values.\n",
    "\n",
    "There are two rough approaches to this:\n",
    "\n",
    "1. Single shot predictions where the entire time series is predicted at once.\n",
    "2. Autoregressive predictions where the model only makes single step predictions and its output is fed back as its input.\n",
    "\n",
    "In this section all the models will predict **all the features across all output time steps**.\n"
   ]
  },
  {
   "cell_type": "markdown",
   "metadata": {
    "id": "WFsDAwVt4_rq"
   },
   "source": [
    "For the multi-step model, the training data again consists of hourly samples. However, here, the models will learn to predict 24 hours into the future, given 24 hours of the past.\n",
    "\n",
    "Here is a `Window` object that generates these slices from the dataset:"
   ]
  },
  {
   "cell_type": "code",
   "execution_count": null,
   "metadata": {
    "execution": {
     "iopub.execute_input": "2022-12-14T03:02:12.411751Z",
     "iopub.status.busy": "2022-12-14T03:02:12.411513Z",
     "iopub.status.idle": "2022-12-14T03:02:12.888479Z",
     "shell.execute_reply": "2022-12-14T03:02:12.887810Z"
    },
    "id": "1cFYtsz6XiGw"
   },
   "outputs": [],
   "source": [
    "OUT_STEPS = 24\n",
    "multi_window = WindowGenerator(input_width=24,\n",
    "                               label_width=OUT_STEPS,\n",
    "                               shift=OUT_STEPS)\n",
    "\n",
    "multi_window.plot()\n",
    "multi_window"
   ]
  },
  {
   "cell_type": "markdown",
   "metadata": {
    "id": "5lg8SInh9Jzd"
   },
   "source": [
    "### Baselines"
   ]
  },
  {
   "cell_type": "markdown",
   "metadata": {
    "id": "axwpoWYOApJL"
   },
   "source": [
    "A simple baseline for this task is to repeat the last input time step for the required number of output time steps:\n",
    "\n",
    "![Repeat the last input, for each output step](images/multistep_last.png)"
   ]
  },
  {
   "cell_type": "code",
   "execution_count": null,
   "metadata": {
    "execution": {
     "iopub.execute_input": "2022-12-14T03:02:12.892222Z",
     "iopub.status.busy": "2022-12-14T03:02:12.891963Z",
     "iopub.status.idle": "2022-12-14T03:02:14.733921Z",
     "shell.execute_reply": "2022-12-14T03:02:14.733153Z"
    },
    "id": "_5iaHSaJ9Rxv"
   },
   "outputs": [],
   "source": [
    "class MultiStepLastBaseline(tf.keras.Model):\n",
    "    def call(self, inputs):\n",
    "        return tf.tile(inputs[:, -1:, :], [1, OUT_STEPS, 1])\n",
    "\n",
    "last_baseline = MultiStepLastBaseline()\n",
    "last_baseline.compile(loss=tf.keras.losses.MeanSquaredError(),\n",
    "                      metrics=[tf.keras.metrics.MeanAbsoluteError()])\n",
    "\n",
    "multi_val_performance = {}\n",
    "multi_performance = {}\n",
    "\n",
    "multi_val_performance['Last'] = last_baseline.evaluate(multi_window.val)\n",
    "multi_performance['Last'] = last_baseline.evaluate(multi_window.test, verbose=0)\n",
    "multi_window.plot(last_baseline)"
   ]
  },
  {
   "cell_type": "markdown",
   "metadata": {
    "id": "AvHZ93ObAfMA"
   },
   "source": [
    "Since this task is to predict 24 hours into the future, given 24 hours of the past, another simple approach is to repeat the previous day, assuming tomorrow will be similar:\n",
    "\n",
    "![Repeat the previous day](images/multistep_repeat.png)"
   ]
  },
  {
   "cell_type": "code",
   "execution_count": null,
   "metadata": {
    "execution": {
     "iopub.execute_input": "2022-12-14T03:02:14.738408Z",
     "iopub.status.busy": "2022-12-14T03:02:14.738137Z",
     "iopub.status.idle": "2022-12-14T03:02:16.486066Z",
     "shell.execute_reply": "2022-12-14T03:02:16.485333Z"
    },
    "id": "L8Y1uMhGwIRs"
   },
   "outputs": [],
   "source": [
    "class RepeatBaseline(tf.keras.Model):\n",
    "    def call(self, inputs):\n",
    "        return inputs\n",
    "\n",
    "repeat_baseline = RepeatBaseline()\n",
    "repeat_baseline.compile(loss=tf.keras.losses.MeanSquaredError(),\n",
    "                        metrics=[tf.keras.metrics.MeanAbsoluteError()])\n",
    "\n",
    "multi_val_performance['Repeat'] = repeat_baseline.evaluate(multi_window.val)\n",
    "multi_performance['Repeat'] = repeat_baseline.evaluate(multi_window.test, verbose=0)\n",
    "multi_window.plot(repeat_baseline)"
   ]
  },
  {
   "cell_type": "markdown",
   "metadata": {
    "id": "tbndS-ct9C2Q"
   },
   "source": [
    "### Single-shot models\n",
    "\n",
    "One high-level approach to this problem is to use a \"single-shot\" model, where the model makes the entire sequence prediction in a single step.\n",
    "\n",
    "This can be implemented efficiently as a `tf.keras.layers.Dense` with `OUT_STEPS*features` output units. The model just needs to reshape that output to the required `(OUTPUT_STEPS, features)`."
   ]
  },
  {
   "cell_type": "markdown",
   "metadata": {
    "id": "NCKS4m1VKrDQ"
   },
   "source": [
    "#### Linear\n",
    "\n",
    "A simple linear model based on the last input time step does better than either baseline, but is underpowered. The model needs to predict `OUTPUT_STEPS` time steps, from a single input time step with a linear projection. It can only capture a low-dimensional slice of the behavior, likely based mainly on the time of day and time of year.\n",
    "\n",
    "![Predict all timesteps from the last time-step](images/multistep_dense.png)"
   ]
  },
  {
   "cell_type": "code",
   "execution_count": null,
   "metadata": {
    "execution": {
     "iopub.execute_input": "2022-12-14T03:02:16.490628Z",
     "iopub.status.busy": "2022-12-14T03:02:16.490367Z",
     "iopub.status.idle": "2022-12-14T03:02:46.815152Z",
     "shell.execute_reply": "2022-12-14T03:02:46.814503Z"
    },
    "id": "kfRz_WVhIQcd"
   },
   "outputs": [],
   "source": [
    "multi_linear_model = tf.keras.Sequential([\n",
    "    # Take the last time-step.\n",
    "    # Shape [batch, time, features] => [batch, 1, features]\n",
    "    tf.keras.layers.Lambda(lambda x: x[:, -1:, :]),\n",
    "    # Shape => [batch, 1, out_steps*features]\n",
    "    tf.keras.layers.Dense(OUT_STEPS*num_features,\n",
    "                          kernel_initializer=tf.initializers.zeros()),\n",
    "    # Shape => [batch, out_steps, features]\n",
    "    tf.keras.layers.Reshape([OUT_STEPS, num_features])\n",
    "])\n",
    "\n",
    "history = compile_and_fit(multi_linear_model, multi_window)\n",
    "\n",
    "IPython.display.clear_output()\n",
    "multi_val_performance['Linear'] = multi_linear_model.evaluate(multi_window.val)\n",
    "multi_performance['Linear'] = multi_linear_model.evaluate(multi_window.test, verbose=0)\n",
    "multi_window.plot(multi_linear_model)"
   ]
  },
  {
   "cell_type": "markdown",
   "metadata": {
    "id": "zi2TMHk2IRrh"
   },
   "source": [
    "#### Dense\n",
    "\n",
    "Adding a `tf.keras.layers.Dense` between the input and output gives the linear model more power, but is still only based on a single input time step."
   ]
  },
  {
   "cell_type": "code",
   "execution_count": null,
   "metadata": {
    "execution": {
     "iopub.execute_input": "2022-12-14T03:02:46.819090Z",
     "iopub.status.busy": "2022-12-14T03:02:46.818820Z",
     "iopub.status.idle": "2022-12-14T03:03:43.952044Z",
     "shell.execute_reply": "2022-12-14T03:03:43.951299Z"
    },
    "id": "jezm-BKaGj91"
   },
   "outputs": [],
   "source": [
    "multi_dense_model = tf.keras.Sequential([\n",
    "    # Take the last time step.\n",
    "    # Shape [batch, time, features] => [batch, 1, features]\n",
    "    tf.keras.layers.Lambda(lambda x: x[:, -1:, :]),\n",
    "    # Shape => [batch, 1, dense_units]\n",
    "    tf.keras.layers.Dense(512, activation='relu'),\n",
    "    # Shape => [batch, out_steps*features]\n",
    "    tf.keras.layers.Dense(OUT_STEPS*num_features,\n",
    "                          kernel_initializer=tf.initializers.zeros()),\n",
    "    # Shape => [batch, out_steps, features]\n",
    "    tf.keras.layers.Reshape([OUT_STEPS, num_features])\n",
    "])\n",
    "\n",
    "history = compile_and_fit(multi_dense_model, multi_window)\n",
    "\n",
    "IPython.display.clear_output()\n",
    "multi_val_performance['Dense'] = multi_dense_model.evaluate(multi_window.val)\n",
    "multi_performance['Dense'] = multi_dense_model.evaluate(multi_window.test, verbose=0)\n",
    "multi_window.plot(multi_dense_model)"
   ]
  },
  {
   "cell_type": "markdown",
   "metadata": {
    "id": "icsBAjCzMaMl"
   },
   "source": [
    "#### CNN"
   ]
  },
  {
   "cell_type": "markdown",
   "metadata": {
    "id": "34lCZrWYNBwd"
   },
   "source": [
    "A convolutional model makes predictions based on a fixed-width history, which may lead to better performance than the dense model since it can see how things are changing over time:\n",
    "\n",
    "![A convolutional model sees how things change over time](images/multistep_conv.png)"
   ]
  },
  {
   "cell_type": "code",
   "execution_count": null,
   "metadata": {
    "execution": {
     "iopub.execute_input": "2022-12-14T03:03:43.956741Z",
     "iopub.status.busy": "2022-12-14T03:03:43.956087Z",
     "iopub.status.idle": "2022-12-14T03:04:30.802894Z",
     "shell.execute_reply": "2022-12-14T03:04:30.802236Z"
    },
    "id": "0xJoIP6PMWMI"
   },
   "outputs": [],
   "source": [
    "CONV_WIDTH = 3\n",
    "multi_conv_model = tf.keras.Sequential([\n",
    "    # Shape [batch, time, features] => [batch, CONV_WIDTH, features]\n",
    "    tf.keras.layers.Lambda(lambda x: x[:, -CONV_WIDTH:, :]),\n",
    "    # Shape => [batch, 1, conv_units]\n",
    "    tf.keras.layers.Conv1D(256, activation='relu', kernel_size=(CONV_WIDTH)),\n",
    "    # Shape => [batch, 1,  out_steps*features]\n",
    "    tf.keras.layers.Dense(OUT_STEPS*num_features,\n",
    "                          kernel_initializer=tf.initializers.zeros()),\n",
    "    # Shape => [batch, out_steps, features]\n",
    "    tf.keras.layers.Reshape([OUT_STEPS, num_features])\n",
    "])\n",
    "\n",
    "history = compile_and_fit(multi_conv_model, multi_window)\n",
    "\n",
    "IPython.display.clear_output()\n",
    "\n",
    "multi_val_performance['Conv'] = multi_conv_model.evaluate(multi_window.val)\n",
    "multi_performance['Conv'] = multi_conv_model.evaluate(multi_window.test, verbose=0)\n",
    "multi_window.plot(multi_conv_model)"
   ]
  },
  {
   "cell_type": "markdown",
   "metadata": {
    "id": "weBjeZAFJOP4"
   },
   "source": [
    "#### RNN"
   ]
  },
  {
   "cell_type": "markdown",
   "metadata": {
    "id": "8022xOKxOO92"
   },
   "source": [
    "A recurrent model can learn to use a long history of inputs, if it's relevant to the predictions the model is making. Here the model will accumulate internal state for 24 hours, before making a single prediction for the next 24 hours.\n",
    "\n",
    "In this single-shot format, the LSTM only needs to produce an output at the last time step, so set `return_sequences=False` in `tf.keras.layers.LSTM`.\n",
    "\n",
    "![The LSTM accumulates state over the input window, and makes a single prediction for the next 24 hours](images/multistep_lstm.png)\n"
   ]
  },
  {
   "cell_type": "code",
   "execution_count": null,
   "metadata": {
    "execution": {
     "iopub.execute_input": "2022-12-14T03:04:30.807611Z",
     "iopub.status.busy": "2022-12-14T03:04:30.806770Z",
     "iopub.status.idle": "2022-12-14T03:05:37.592821Z",
     "shell.execute_reply": "2022-12-14T03:05:37.592112Z"
    },
    "id": "Bf1ks6RTzF64"
   },
   "outputs": [],
   "source": [
    "multi_lstm_model = tf.keras.Sequential([\n",
    "    # Shape [batch, time, features] => [batch, lstm_units].\n",
    "    # Adding more `lstm_units` just overfits more quickly.\n",
    "    tf.keras.layers.LSTM(32, return_sequences=False),\n",
    "    # Shape => [batch, out_steps*features].\n",
    "    tf.keras.layers.Dense(OUT_STEPS*num_features,\n",
    "                          kernel_initializer=tf.initializers.zeros()),\n",
    "    # Shape => [batch, out_steps, features].\n",
    "    tf.keras.layers.Reshape([OUT_STEPS, num_features])\n",
    "])\n",
    "\n",
    "history = compile_and_fit(multi_lstm_model, multi_window)\n",
    "\n",
    "IPython.display.clear_output()\n",
    "\n",
    "multi_val_performance['LSTM'] = multi_lstm_model.evaluate(multi_window.val)\n",
    "multi_performance['LSTM'] = multi_lstm_model.evaluate(multi_window.test, verbose=0)\n",
    "multi_window.plot(multi_lstm_model)"
   ]
  },
  {
   "cell_type": "markdown",
   "metadata": {
    "id": "d5n-1cDW12Vo"
   },
   "source": [
    "### Advanced: Autoregressive model\n",
    "\n",
    "The above models all predict the entire output sequence in a single step.\n",
    "\n",
    "In some cases it may be helpful for the model to decompose this prediction into individual time steps. Then, each model's output can be fed back into itself at each step and predictions can be made conditioned on the previous one, like in the classic <a href=\"https://arxiv.org/abs/1308.0850\" class=\"external\">Generating Sequences With Recurrent Neural Networks</a>.\n",
    "\n",
    "One clear advantage to this style of model is that it can be set up to produce output with a varying length.\n",
    "\n",
    "You could take any of the single-step multi-output models trained in the first half of this tutorial and run in an autoregressive feedback loop, but here you'll focus on building a model that's been explicitly trained to do that.\n",
    "\n",
    "![Feedback a model's output to its input](images/multistep_autoregressive.png)"
   ]
  },
  {
   "cell_type": "markdown",
   "metadata": {
    "id": "PKRreBbULRXY"
   },
   "source": [
    "#### RNN\n",
    "\n",
    "This tutorial only builds an autoregressive RNN model, but this pattern could be applied to any model that was designed to output a single time step.\n",
    "\n",
    "The model will have the same basic form as the single-step LSTM models from earlier: a `tf.keras.layers.LSTM` layer followed by a `tf.keras.layers.Dense` layer that converts the `LSTM` layer's outputs to model predictions.\n",
    "\n",
    "A `tf.keras.layers.LSTM` is a `tf.keras.layers.LSTMCell` wrapped in the higher level `tf.keras.layers.RNN` that manages the state and sequence results for you (Check out the [Recurrent Neural Networks (RNN) with Keras](https://www.tensorflow.org/guide/keras/rnn) guide for details).\n",
    "\n",
    "In this case, the model has to manually manage the inputs for each step, so it uses `tf.keras.layers.LSTMCell` directly for the lower level, single time step interface."
   ]
  },
  {
   "cell_type": "code",
   "execution_count": null,
   "metadata": {
    "execution": {
     "iopub.execute_input": "2022-12-14T03:05:37.597295Z",
     "iopub.status.busy": "2022-12-14T03:05:37.596786Z",
     "iopub.status.idle": "2022-12-14T03:05:37.601493Z",
     "shell.execute_reply": "2022-12-14T03:05:37.600900Z"
    },
    "id": "s5tz3Nu0R5JG"
   },
   "outputs": [],
   "source": [
    "class FeedBack(tf.keras.Model):\n",
    "    def __init__(self, units, out_steps):\n",
    "        super().__init__()\n",
    "        self.out_steps = out_steps\n",
    "        self.units = units\n",
    "        self.lstm_cell = tf.keras.layers.LSTMCell(units)\n",
    "        # Also wrap the LSTMCell in an RNN to simplify the `warmup` method.\n",
    "        self.lstm_rnn = tf.keras.layers.RNN(self.lstm_cell, return_state=True)\n",
    "        self.dense = tf.keras.layers.Dense(num_features)"
   ]
  },
  {
   "cell_type": "code",
   "execution_count": null,
   "metadata": {
    "execution": {
     "iopub.execute_input": "2022-12-14T03:05:37.604527Z",
     "iopub.status.busy": "2022-12-14T03:05:37.604006Z",
     "iopub.status.idle": "2022-12-14T03:05:37.614223Z",
     "shell.execute_reply": "2022-12-14T03:05:37.613585Z"
    },
    "id": "2OXVM9G1U7xR"
   },
   "outputs": [],
   "source": [
    "feedback_model = FeedBack(units=32, out_steps=OUT_STEPS)"
   ]
  },
  {
   "cell_type": "markdown",
   "metadata": {
    "id": "ph5uFSfTUNho"
   },
   "source": [
    "The first method this model needs is a `warmup` method to initialize its internal state based on the inputs. Once trained, this state will capture the relevant parts of the input history. This is equivalent to the single-step `LSTM` model from earlier:"
   ]
  },
  {
   "cell_type": "code",
   "execution_count": null,
   "metadata": {
    "execution": {
     "iopub.execute_input": "2022-12-14T03:05:37.617410Z",
     "iopub.status.busy": "2022-12-14T03:05:37.616888Z",
     "iopub.status.idle": "2022-12-14T03:05:37.620467Z",
     "shell.execute_reply": "2022-12-14T03:05:37.619937Z"
    },
    "id": "vM2K_LLdRjDZ"
   },
   "outputs": [],
   "source": [
    "def warmup(self, inputs):\n",
    "    # inputs.shape => (batch, time, features)\n",
    "    # x.shape => (batch, lstm_units)\n",
    "    x, *state = self.lstm_rnn(inputs)\n",
    "\n",
    "    # predictions.shape => (batch, features)\n",
    "    prediction = self.dense(x)\n",
    "    return prediction, state\n",
    "\n",
    "FeedBack.warmup = warmup"
   ]
  },
  {
   "cell_type": "markdown",
   "metadata": {
    "id": "6JkaSYaZ9eB7"
   },
   "source": [
    "This method returns a single time-step prediction and the internal state of the `LSTM`:"
   ]
  },
  {
   "cell_type": "code",
   "execution_count": null,
   "metadata": {
    "execution": {
     "iopub.execute_input": "2022-12-14T03:05:37.623548Z",
     "iopub.status.busy": "2022-12-14T03:05:37.622914Z",
     "iopub.status.idle": "2022-12-14T03:05:37.704881Z",
     "shell.execute_reply": "2022-12-14T03:05:37.704316Z"
    },
    "id": "w9Fz6NTKXXwU"
   },
   "outputs": [],
   "source": [
    "prediction, state = feedback_model.warmup(multi_window.example[0])\n",
    "prediction.shape"
   ]
  },
  {
   "cell_type": "markdown",
   "metadata": {
    "id": "S_ZdvPjdX3y3"
   },
   "source": [
    "With the `RNN`'s state, and an initial prediction you can now continue iterating the model feeding the predictions at each step back as the input.\n",
    "\n",
    "The simplest approach for collecting the output predictions is to use a Python list and a `tf.stack` after the loop."
   ]
  },
  {
   "cell_type": "markdown",
   "metadata": {
    "id": "yotTad3nZXQU"
   },
   "source": [
    "Note: Stacking a Python list like this only works with eager-execution, using `Model.compile(..., run_eagerly=True)` for training, or with a fixed length output. For a dynamic output length, you would need to use a `tf.TensorArray` instead of a Python list, and `tf.range` instead of the Python `range`."
   ]
  },
  {
   "cell_type": "code",
   "execution_count": null,
   "metadata": {
    "execution": {
     "iopub.execute_input": "2022-12-14T03:05:37.708214Z",
     "iopub.status.busy": "2022-12-14T03:05:37.707988Z",
     "iopub.status.idle": "2022-12-14T03:05:37.714113Z",
     "shell.execute_reply": "2022-12-14T03:05:37.713463Z"
    },
    "id": "g1GRDu3mZtr9"
   },
   "outputs": [],
   "source": [
    "def call(self, inputs, training=None):\n",
    "    # Use a TensorArray to capture dynamically unrolled outputs.\n",
    "    predictions = []\n",
    "    # Initialize the LSTM state.\n",
    "    prediction, state = self.warmup(inputs)\n",
    "\n",
    "    # Insert the first prediction.\n",
    "    predictions.append(prediction)\n",
    "\n",
    "    # Run the rest of the prediction steps.\n",
    "    for n in range(1, self.out_steps):\n",
    "        # Use the last prediction as input.\n",
    "        x = prediction\n",
    "        # Execute one lstm step.\n",
    "        x, state = self.lstm_cell(x, states=state,\n",
    "                                  training=training)\n",
    "        # Convert the lstm output to a prediction.\n",
    "        prediction = self.dense(x)\n",
    "        # Add the prediction to the output.\n",
    "        predictions.append(prediction)\n",
    "\n",
    "    # predictions.shape => (time, batch, features)\n",
    "    predictions = tf.stack(predictions)\n",
    "    # predictions.shape => (batch, time, features)\n",
    "    predictions = tf.transpose(predictions, [1, 0, 2])\n",
    "\n",
    "    return predictions\n",
    "\n",
    "FeedBack.call = call"
   ]
  },
  {
   "cell_type": "markdown",
   "metadata": {
    "id": "Ubop-YWp15XW"
   },
   "source": [
    "Test run this model on the example inputs:"
   ]
  },
  {
   "cell_type": "code",
   "execution_count": null,
   "metadata": {
    "execution": {
     "iopub.execute_input": "2022-12-14T03:05:37.717234Z",
     "iopub.status.busy": "2022-12-14T03:05:37.716667Z",
     "iopub.status.idle": "2022-12-14T03:05:37.816681Z",
     "shell.execute_reply": "2022-12-14T03:05:37.816096Z"
    },
    "id": "Xja83zEYaM2D"
   },
   "outputs": [],
   "source": [
    "print('Output shape (batch, time, features): ', feedback_model(multi_window.example[0]).shape)"
   ]
  },
  {
   "cell_type": "markdown",
   "metadata": {
    "id": "qMs0rYB8be9M"
   },
   "source": [
    "Now, train the model:"
   ]
  },
  {
   "cell_type": "code",
   "execution_count": null,
   "metadata": {
    "execution": {
     "iopub.execute_input": "2022-12-14T03:05:37.819817Z",
     "iopub.status.busy": "2022-12-14T03:05:37.819350Z",
     "iopub.status.idle": "2022-12-14T03:15:07.021362Z",
     "shell.execute_reply": "2022-12-14T03:15:07.020657Z"
    },
    "id": "VBRVG2hnNyrO"
   },
   "outputs": [],
   "source": [
    "history = compile_and_fit(feedback_model, multi_window)\n",
    "\n",
    "IPython.display.clear_output()\n",
    "\n",
    "multi_val_performance['AR LSTM'] = feedback_model.evaluate(multi_window.val)\n",
    "multi_performance['AR LSTM'] = feedback_model.evaluate(multi_window.test, verbose=0)\n",
    "multi_window.plot(feedback_model)"
   ]
  },
  {
   "cell_type": "markdown",
   "metadata": {
    "id": "hGjcJsAQJUkI"
   },
   "source": [
    "### Performance"
   ]
  },
  {
   "cell_type": "markdown",
   "metadata": {
    "id": "sODAwr2ndtDB"
   },
   "source": [
    "There are clearly diminishing returns as a function of model complexity on this problem:"
   ]
  },
  {
   "cell_type": "code",
   "execution_count": null,
   "metadata": {
    "execution": {
     "iopub.execute_input": "2022-12-14T03:15:07.025926Z",
     "iopub.status.busy": "2022-12-14T03:15:07.025253Z",
     "iopub.status.idle": "2022-12-14T03:15:07.186443Z",
     "shell.execute_reply": "2022-12-14T03:15:07.185859Z"
    },
    "id": "WZwWBA8S6B3L"
   },
   "outputs": [],
   "source": [
    "x = np.arange(len(multi_performance))\n",
    "width = 0.3\n",
    "\n",
    "metric_name = 'mean_absolute_error'\n",
    "metric_index = lstm_model.metrics_names.index('mean_absolute_error')\n",
    "val_mae = [v[metric_index] for v in multi_val_performance.values()]\n",
    "test_mae = [v[metric_index] for v in multi_performance.values()]\n",
    "\n",
    "plt.bar(x - 0.17, val_mae, width, label='Validation')\n",
    "plt.bar(x + 0.17, test_mae, width, label='Test')\n",
    "plt.xticks(ticks=x, labels=multi_performance.keys(),\n",
    "           rotation=45)\n",
    "plt.ylabel(f'MAE (average over all times and outputs)')\n",
    "_ = plt.legend()"
   ]
  },
  {
   "cell_type": "markdown",
   "metadata": {
    "id": "Zq3hUsedCEmJ"
   },
   "source": [
    "The metrics for the multi-output models in the first half of this tutorial show the performance averaged across all output features. These performances are similar but also averaged across output time steps. "
   ]
  },
  {
   "cell_type": "code",
   "execution_count": null,
   "metadata": {
    "execution": {
     "iopub.execute_input": "2022-12-14T03:15:07.191795Z",
     "iopub.status.busy": "2022-12-14T03:15:07.191326Z",
     "iopub.status.idle": "2022-12-14T03:15:07.195164Z",
     "shell.execute_reply": "2022-12-14T03:15:07.194578Z"
    },
    "id": "jKq3eAIvH4Db"
   },
   "outputs": [],
   "source": [
    "for name, value in multi_performance.items():\n",
    "    print(f'{name:8s}: {value[1]:0.4f}')"
   ]
  },
  {
   "cell_type": "markdown",
   "metadata": {
    "id": "MpBFwfnaHP23"
   },
   "source": [
    "The gains achieved going from a dense model to convolutional and recurrent models are only a few percent (if any), and the autoregressive model performed clearly worse. So these more complex approaches may not be worth while on **this** problem, but there was no way to know without trying, and these models could be helpful for **your** problem."
   ]
  },
  {
   "cell_type": "markdown",
   "metadata": {
    "id": "pOzaIRYBhqwg"
   },
   "source": [
    "## Next steps\n",
    "\n",
    "This tutorial was a quick introduction to time series forecasting using TensorFlow.\n",
    "\n",
    "To learn more, refer to:\n",
    "\n",
    "- Chapter 15 of <a href=\"https://www.oreilly.com/library/view/hands-on-machine-learning/9781492032632/\" class=\"external\">Hands-on Machine Learning with Scikit-Learn, Keras, and TensorFlow</a>, 2nd Edition.\n",
    "- Chapter 6 of <a href=\"https://www.manning.com/books/deep-learning-with-python\" class=\"external\">Deep Learning with Python</a>.\n",
    "- Lesson 8 of <a href=\"https://www.udacity.com/course/intro-to-tensorflow-for-deep-learning--ud187\" class=\"external\">Udacity's intro to TensorFlow for deep learning</a>, including the <a href=\"https://github.com/tensorflow/examples/tree/master/courses/udacity_intro_to_tensorflow_for_deep_learning\" class=\"external\">exercise notebooks</a>.\n",
    "\n",
    "Also, remember that you can implement any <a href=\"https://otexts.com/fpp2/index.html\" class=\"external\">classical time series model</a> in TensorFlow—this tutorial just focuses on TensorFlow's built-in functionality.\n"
   ]
  }
 ],
 "metadata": {
  "accelerator": "GPU",
  "colab": {
   "collapsed_sections": [],
   "name": "time_series.ipynb",
   "toc_visible": true
  },
  "kernelspec": {
   "display_name": "Python 3.9.16 (timeSeries)",
   "language": "python",
   "name": "timeseries"
  },
  "language_info": {
   "codemirror_mode": {
    "name": "ipython",
    "version": 3
   },
   "file_extension": ".py",
   "mimetype": "text/x-python",
   "name": "python",
   "nbconvert_exporter": "python",
   "pygments_lexer": "ipython3",
   "version": "3.9.16"
  },
  "toc": {
   "base_numbering": 1,
   "nav_menu": {},
   "number_sections": true,
   "sideBar": true,
   "skip_h1_title": false,
   "title_cell": "Table of Contents",
   "title_sidebar": "Contents",
   "toc_cell": false,
   "toc_position": {},
   "toc_section_display": true,
   "toc_window_display": false
  }
 },
 "nbformat": 4,
 "nbformat_minor": 1
}
